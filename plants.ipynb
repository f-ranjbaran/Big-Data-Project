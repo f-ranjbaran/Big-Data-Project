{
 "cells": [
  {
   "cell_type": "markdown",
   "metadata": {
    "pycharm": {
     "name": "#%% md\n"
    }
   },
   "source": [
    "## 1. Introduction\n",
    "\n",
    "The dataset available at [plants dataset](https://archive.ics.uci.edu/dataset/180/plants) contains information on plant species and genera, along with their occurrences in various states of the USA and Canada. This dataset, sourced from the USDA plants database, is ideal for applying clustering techniques to analyze plant distribution patterns. By leveraging PySpark's powerful capabilities, we can efficiently load, process, and cluster the data. Through clustering, I aim to identify groups of plant species with similar geographic distributions. This exploration can offer valuable insights into ecological associations and geographical factors influencing plant occurrences."
   ]
  },
  {
   "cell_type": "markdown",
   "metadata": {
    "pycharm": {
     "name": "#%% md\n"
    }
   },
   "source": [
    "## 2. Connection to Spark Cluster\n",
    "\n",
    "To connect to the Spark cluster, we create a SparkSession object with the following params:\n",
    "\n",
    "+ **appName:** application name displayed at the [Spark Master Web UI](http://localhost:8080/);\n",
    "+ **master:** Spark Master URL, same used by Spark Workers;\n",
    "+ **spark.executor.memory:** must be less than or equals to docker compose SPARK_WORKER_MEMORY config."
   ]
  },
  {
   "cell_type": "code",
   "execution_count": 1,
   "metadata": {
    "pycharm": {
     "name": "#%%\n"
    }
   },
   "outputs": [
    {
     "name": "stdout",
     "output_type": "stream",
     "text": [
      "Requirement already satisfied: matplotlib in /usr/local/lib/python3.9/dist-packages (3.7.1)\n",
      "Requirement already satisfied: scikit-learn in /usr/local/lib/python3.9/dist-packages (0.24.2)\n",
      "Requirement already satisfied: seaborn in /usr/local/lib/python3.9/dist-packages (0.12.2)\n",
      "Requirement already satisfied: pyspark-dbscan in /usr/local/lib/python3.9/dist-packages (1.0.6)\n",
      "Requirement already satisfied: pyspark[sql] in /usr/local/lib/python3.9/dist-packages (3.4.1)\n",
      "Requirement already satisfied: numpy>=1.20 in /usr/local/lib/python3.9/dist-packages (from matplotlib) (1.24.2)\n",
      "Requirement already satisfied: kiwisolver>=1.0.1 in /usr/local/lib/python3.9/dist-packages (from matplotlib) (1.4.4)\n",
      "Requirement already satisfied: packaging>=20.0 in /usr/local/lib/python3.9/dist-packages (from matplotlib) (23.0)\n",
      "Requirement already satisfied: pyparsing>=2.3.1 in /usr/local/lib/python3.9/dist-packages (from matplotlib) (3.1.0)\n",
      "Requirement already satisfied: fonttools>=4.22.0 in /usr/local/lib/python3.9/dist-packages (from matplotlib) (4.40.0)\n",
      "Requirement already satisfied: python-dateutil>=2.7 in /usr/local/lib/python3.9/dist-packages (from matplotlib) (2.8.2)\n",
      "Requirement already satisfied: pillow>=6.2.0 in /usr/local/lib/python3.9/dist-packages (from matplotlib) (9.5.0)\n",
      "Requirement already satisfied: cycler>=0.10 in /usr/local/lib/python3.9/dist-packages (from matplotlib) (0.11.0)\n",
      "Requirement already satisfied: contourpy>=1.0.1 in /usr/local/lib/python3.9/dist-packages (from matplotlib) (1.1.0)\n",
      "Requirement already satisfied: importlib-resources>=3.2.0 in /usr/local/lib/python3.9/dist-packages (from matplotlib) (5.12.0)\n",
      "Requirement already satisfied: scipy>=0.19.1 in /usr/local/lib/python3.9/dist-packages (from scikit-learn) (1.11.0)\n",
      "Requirement already satisfied: joblib>=0.11 in /usr/local/lib/python3.9/dist-packages (from scikit-learn) (1.3.0)\n",
      "Requirement already satisfied: threadpoolctl>=2.0.0 in /usr/local/lib/python3.9/dist-packages (from scikit-learn) (3.1.0)\n",
      "Requirement already satisfied: pandas>=0.25 in /usr/local/lib/python3.9/dist-packages (from seaborn) (1.5.3)\n",
      "Requirement already satisfied: graphframes==0.6 in /usr/local/lib/python3.9/dist-packages (from pyspark-dbscan) (0.6)\n",
      "Requirement already satisfied: sklearn==0.0 in /usr/local/lib/python3.9/dist-packages (from pyspark-dbscan) (0.0)\n",
      "Requirement already satisfied: nose in /usr/local/lib/python3.9/dist-packages (from graphframes==0.6->pyspark-dbscan) (1.3.7)\n",
      "Requirement already satisfied: py4j==0.10.9.7 in /usr/local/lib/python3.9/dist-packages (from pyspark[sql]) (0.10.9.7)\n",
      "Requirement already satisfied: pyarrow>=1.0.0 in /usr/local/lib/python3.9/dist-packages (from pyspark[sql]) (12.0.1)\n",
      "Requirement already satisfied: zipp>=3.1.0 in /usr/local/lib/python3.9/dist-packages (from importlib-resources>=3.2.0->matplotlib) (3.13.0)\n",
      "Requirement already satisfied: pytz>=2020.1 in /usr/local/lib/python3.9/dist-packages (from pandas>=0.25->seaborn) (2022.7.1)\n",
      "Requirement already satisfied: six>=1.5 in /usr/local/lib/python3.9/dist-packages (from python-dateutil>=2.7->matplotlib) (1.16.0)\n",
      "\u001B[33mWARNING: Running pip as the 'root' user can result in broken permissions and conflicting behaviour with the system package manager. It is recommended to use a virtual environment instead: https://pip.pypa.io/warnings/venv\u001B[0m\u001B[33m\n",
      "\u001B[0m\n",
      "\u001B[1m[\u001B[0m\u001B[34;49mnotice\u001B[0m\u001B[1;39;49m]\u001B[0m\u001B[39;49m A new release of pip is available: \u001B[0m\u001B[31;49m23.0\u001B[0m\u001B[39;49m -> \u001B[0m\u001B[32;49m23.1.2\u001B[0m\n",
      "\u001B[1m[\u001B[0m\u001B[34;49mnotice\u001B[0m\u001B[1;39;49m]\u001B[0m\u001B[39;49m To update, run: \u001B[0m\u001B[32;49mpython3 -m pip install --upgrade pip\u001B[0m\n"
     ]
    }
   ],
   "source": [
    "# %%capture\n",
    "!pip install matplotlib scikit-learn seaborn pyspark-dbscan pyspark[sql]"
   ]
  },
  {
   "cell_type": "code",
   "execution_count": 7,
   "metadata": {
    "pycharm": {
     "name": "#%%\n"
    }
   },
   "outputs": [],
   "source": [
    "import warnings\n",
    "warnings.filterwarnings(\"ignore\")  # Ignore warnings coming from Arrow optimizations\n",
    "\n",
    "import pyspark\n",
    "import pyspark.pandas as ps\n",
    "from pyspark.sql import SparkSession\n",
    "\n",
    "spark = SparkSession.\\\n",
    "        builder.\\\n",
    "        appName(\"plants-notebook\").\\\n",
    "        master(\"spark://spark-master:7077\").\\\n",
    "        config(\"spark.executor.memory\", \"512m\").\\\n",
    "        getOrCreate()\n",
    "\n",
    "prev = spark.conf.get(\"spark.sql.execution.arrow.pyspark.enabled\")  # Keep its default value.\n",
    "ps.set_option(\"compute.default_index_type\", \"distributed\")  # Use default index prevent overhead."
   ]
  },
  {
   "cell_type": "code",
   "execution_count": 10,
   "metadata": {
    "pycharm": {
     "name": "#%%\n"
    }
   },
   "outputs": [
    {
     "ename": "Py4JJavaError",
     "evalue": "An error occurred while calling o62.defaultParallelism.\n: java.lang.IllegalStateException: Cannot call methods on a stopped SparkContext.\nThis stopped SparkContext was created at:\n\norg.apache.spark.api.java.JavaSparkContext.<init>(JavaSparkContext.scala:58)\nsun.reflect.NativeConstructorAccessorImpl.newInstance0(Native Method)\nsun.reflect.NativeConstructorAccessorImpl.newInstance(NativeConstructorAccessorImpl.java:62)\nsun.reflect.DelegatingConstructorAccessorImpl.newInstance(DelegatingConstructorAccessorImpl.java:45)\njava.lang.reflect.Constructor.newInstance(Constructor.java:423)\npy4j.reflection.MethodInvoker.invoke(MethodInvoker.java:247)\npy4j.reflection.ReflectionEngine.invoke(ReflectionEngine.java:374)\npy4j.Gateway.invoke(Gateway.java:238)\npy4j.commands.ConstructorCommand.invokeConstructor(ConstructorCommand.java:80)\npy4j.commands.ConstructorCommand.execute(ConstructorCommand.java:69)\npy4j.ClientServerConnection.waitForCommands(ClientServerConnection.java:182)\npy4j.ClientServerConnection.run(ClientServerConnection.java:106)\njava.lang.Thread.run(Thread.java:750)\n\nThe currently active SparkContext was created at:\n\n(No active SparkContext.)\n         \n\tat org.apache.spark.SparkContext.assertNotStopped(SparkContext.scala:120)\n\tat org.apache.spark.SparkContext.defaultParallelism(SparkContext.scala:2559)\n\tat sun.reflect.NativeMethodAccessorImpl.invoke0(Native Method)\n\tat sun.reflect.NativeMethodAccessorImpl.invoke(NativeMethodAccessorImpl.java:62)\n\tat sun.reflect.DelegatingMethodAccessorImpl.invoke(DelegatingMethodAccessorImpl.java:43)\n\tat java.lang.reflect.Method.invoke(Method.java:498)\n\tat py4j.reflection.MethodInvoker.invoke(MethodInvoker.java:244)\n\tat py4j.reflection.ReflectionEngine.invoke(ReflectionEngine.java:374)\n\tat py4j.Gateway.invoke(Gateway.java:282)\n\tat py4j.commands.AbstractCommand.invokeMethod(AbstractCommand.java:132)\n\tat py4j.commands.CallCommand.execute(CallCommand.java:79)\n\tat py4j.ClientServerConnection.waitForCommands(ClientServerConnection.java:182)\n\tat py4j.ClientServerConnection.run(ClientServerConnection.java:106)\n\tat java.lang.Thread.run(Thread.java:750)\n",
     "output_type": "error",
     "traceback": [
      "\u001B[0;31m---------------------------------------------------------------------------\u001B[0m",
      "\u001B[0;31mPy4JJavaError\u001B[0m                             Traceback (most recent call last)",
      "Cell \u001B[0;32mIn[10], line 2\u001B[0m\n\u001B[1;32m      1\u001B[0m spark\u001B[38;5;241m.\u001B[39mconf\u001B[38;5;241m.\u001B[39mset(\u001B[38;5;124m\"\u001B[39m\u001B[38;5;124mspark.sql.execution.arrow.pyspark.enabled\u001B[39m\u001B[38;5;124m\"\u001B[39m, \u001B[38;5;28;01mTrue\u001B[39;00m)\n\u001B[0;32m----> 2\u001B[0m \u001B[43mget_ipython\u001B[49m\u001B[43m(\u001B[49m\u001B[43m)\u001B[49m\u001B[38;5;241;43m.\u001B[39;49m\u001B[43mrun_line_magic\u001B[49m\u001B[43m(\u001B[49m\u001B[38;5;124;43m'\u001B[39;49m\u001B[38;5;124;43mtimeit\u001B[39;49m\u001B[38;5;124;43m'\u001B[39;49m\u001B[43m,\u001B[49m\u001B[43m \u001B[49m\u001B[38;5;124;43m'\u001B[39;49m\u001B[38;5;124;43mps.range(300000).to_pandas()\u001B[39;49m\u001B[38;5;124;43m'\u001B[39;49m\u001B[43m)\u001B[49m\n",
      "File \u001B[0;32m/usr/local/lib/python3.9/dist-packages/IPython/core/interactiveshell.py:2369\u001B[0m, in \u001B[0;36mInteractiveShell.run_line_magic\u001B[0;34m(self, magic_name, line, _stack_depth)\u001B[0m\n\u001B[1;32m   2367\u001B[0m     kwargs[\u001B[38;5;124m'\u001B[39m\u001B[38;5;124mlocal_ns\u001B[39m\u001B[38;5;124m'\u001B[39m] \u001B[38;5;241m=\u001B[39m \u001B[38;5;28mself\u001B[39m\u001B[38;5;241m.\u001B[39mget_local_scope(stack_depth)\n\u001B[1;32m   2368\u001B[0m \u001B[38;5;28;01mwith\u001B[39;00m \u001B[38;5;28mself\u001B[39m\u001B[38;5;241m.\u001B[39mbuiltin_trap:\n\u001B[0;32m-> 2369\u001B[0m     result \u001B[38;5;241m=\u001B[39m \u001B[43mfn\u001B[49m\u001B[43m(\u001B[49m\u001B[38;5;241;43m*\u001B[39;49m\u001B[43margs\u001B[49m\u001B[43m,\u001B[49m\u001B[43m \u001B[49m\u001B[38;5;241;43m*\u001B[39;49m\u001B[38;5;241;43m*\u001B[39;49m\u001B[43mkwargs\u001B[49m\u001B[43m)\u001B[49m\n\u001B[1;32m   2371\u001B[0m \u001B[38;5;66;03m# The code below prevents the output from being displayed\u001B[39;00m\n\u001B[1;32m   2372\u001B[0m \u001B[38;5;66;03m# when using magics with decodator @output_can_be_silenced\u001B[39;00m\n\u001B[1;32m   2373\u001B[0m \u001B[38;5;66;03m# when the last Python token in the expression is a ';'.\u001B[39;00m\n\u001B[1;32m   2374\u001B[0m \u001B[38;5;28;01mif\u001B[39;00m \u001B[38;5;28mgetattr\u001B[39m(fn, magic\u001B[38;5;241m.\u001B[39mMAGIC_OUTPUT_CAN_BE_SILENCED, \u001B[38;5;28;01mFalse\u001B[39;00m):\n",
      "File \u001B[0;32m/usr/local/lib/python3.9/dist-packages/IPython/core/magics/execution.py:1163\u001B[0m, in \u001B[0;36mExecutionMagics.timeit\u001B[0;34m(self, line, cell, local_ns)\u001B[0m\n\u001B[1;32m   1161\u001B[0m \u001B[38;5;28;01mfor\u001B[39;00m index \u001B[38;5;129;01min\u001B[39;00m \u001B[38;5;28mrange\u001B[39m(\u001B[38;5;241m0\u001B[39m, \u001B[38;5;241m10\u001B[39m):\n\u001B[1;32m   1162\u001B[0m     number \u001B[38;5;241m=\u001B[39m \u001B[38;5;241m10\u001B[39m \u001B[38;5;241m*\u001B[39m\u001B[38;5;241m*\u001B[39m index\n\u001B[0;32m-> 1163\u001B[0m     time_number \u001B[38;5;241m=\u001B[39m \u001B[43mtimer\u001B[49m\u001B[38;5;241;43m.\u001B[39;49m\u001B[43mtimeit\u001B[49m\u001B[43m(\u001B[49m\u001B[43mnumber\u001B[49m\u001B[43m)\u001B[49m\n\u001B[1;32m   1164\u001B[0m     \u001B[38;5;28;01mif\u001B[39;00m time_number \u001B[38;5;241m>\u001B[39m\u001B[38;5;241m=\u001B[39m \u001B[38;5;241m0.2\u001B[39m:\n\u001B[1;32m   1165\u001B[0m         \u001B[38;5;28;01mbreak\u001B[39;00m\n",
      "File \u001B[0;32m/usr/local/lib/python3.9/dist-packages/IPython/core/magics/execution.py:157\u001B[0m, in \u001B[0;36mTimer.timeit\u001B[0;34m(self, number)\u001B[0m\n\u001B[1;32m    155\u001B[0m gc\u001B[38;5;241m.\u001B[39mdisable()\n\u001B[1;32m    156\u001B[0m \u001B[38;5;28;01mtry\u001B[39;00m:\n\u001B[0;32m--> 157\u001B[0m     timing \u001B[38;5;241m=\u001B[39m \u001B[38;5;28;43mself\u001B[39;49m\u001B[38;5;241;43m.\u001B[39;49m\u001B[43minner\u001B[49m\u001B[43m(\u001B[49m\u001B[43mit\u001B[49m\u001B[43m,\u001B[49m\u001B[43m \u001B[49m\u001B[38;5;28;43mself\u001B[39;49m\u001B[38;5;241;43m.\u001B[39;49m\u001B[43mtimer\u001B[49m\u001B[43m)\u001B[49m\n\u001B[1;32m    158\u001B[0m \u001B[38;5;28;01mfinally\u001B[39;00m:\n\u001B[1;32m    159\u001B[0m     \u001B[38;5;28;01mif\u001B[39;00m gcold:\n",
      "File \u001B[0;32m<magic-timeit>:1\u001B[0m, in \u001B[0;36minner\u001B[0;34m(_it, _timer)\u001B[0m\n",
      "File \u001B[0;32m/usr/local/lib/python3.9/dist-packages/pyspark/pandas/namespace.py:211\u001B[0m, in \u001B[0;36mrange\u001B[0;34m(start, end, step, num_partitions)\u001B[0m\n\u001B[1;32m    162\u001B[0m \u001B[38;5;28;01mdef\u001B[39;00m \u001B[38;5;21mrange\u001B[39m(\n\u001B[1;32m    163\u001B[0m     start: \u001B[38;5;28mint\u001B[39m, end: Optional[\u001B[38;5;28mint\u001B[39m] \u001B[38;5;241m=\u001B[39m \u001B[38;5;28;01mNone\u001B[39;00m, step: \u001B[38;5;28mint\u001B[39m \u001B[38;5;241m=\u001B[39m \u001B[38;5;241m1\u001B[39m, num_partitions: Optional[\u001B[38;5;28mint\u001B[39m] \u001B[38;5;241m=\u001B[39m \u001B[38;5;28;01mNone\u001B[39;00m\n\u001B[1;32m    164\u001B[0m ) \u001B[38;5;241m-\u001B[39m\u001B[38;5;241m>\u001B[39m DataFrame:\n\u001B[1;32m    165\u001B[0m \u001B[38;5;250m    \u001B[39m\u001B[38;5;124;03m\"\"\"\u001B[39;00m\n\u001B[1;32m    166\u001B[0m \u001B[38;5;124;03m    Create a DataFrame with some range of numbers.\u001B[39;00m\n\u001B[1;32m    167\u001B[0m \n\u001B[0;32m   (...)\u001B[0m\n\u001B[1;32m    209\u001B[0m \u001B[38;5;124;03m    4  180\u001B[39;00m\n\u001B[1;32m    210\u001B[0m \u001B[38;5;124;03m    \"\"\"\u001B[39;00m\n\u001B[0;32m--> 211\u001B[0m     sdf \u001B[38;5;241m=\u001B[39m \u001B[43mdefault_session\u001B[49m\u001B[43m(\u001B[49m\u001B[43m)\u001B[49m\u001B[38;5;241;43m.\u001B[39;49m\u001B[43mrange\u001B[49m\u001B[43m(\u001B[49m\u001B[43mstart\u001B[49m\u001B[38;5;241;43m=\u001B[39;49m\u001B[43mstart\u001B[49m\u001B[43m,\u001B[49m\u001B[43m \u001B[49m\u001B[43mend\u001B[49m\u001B[38;5;241;43m=\u001B[39;49m\u001B[43mend\u001B[49m\u001B[43m,\u001B[49m\u001B[43m \u001B[49m\u001B[43mstep\u001B[49m\u001B[38;5;241;43m=\u001B[39;49m\u001B[43mstep\u001B[49m\u001B[43m,\u001B[49m\u001B[43m \u001B[49m\u001B[43mnumPartitions\u001B[49m\u001B[38;5;241;43m=\u001B[39;49m\u001B[43mnum_partitions\u001B[49m\u001B[43m)\u001B[49m\n\u001B[1;32m    212\u001B[0m     \u001B[38;5;28;01mreturn\u001B[39;00m DataFrame(sdf)\n",
      "File \u001B[0;32m/usr/local/lib/python3.9/dist-packages/pyspark/sql/session.py:805\u001B[0m, in \u001B[0;36mSparkSession.range\u001B[0;34m(self, start, end, step, numPartitions)\u001B[0m\n\u001B[1;32m    757\u001B[0m \u001B[38;5;250m\u001B[39m\u001B[38;5;124;03m\"\"\"\u001B[39;00m\n\u001B[1;32m    758\u001B[0m \u001B[38;5;124;03mCreate a :class:`DataFrame` with single :class:`pyspark.sql.types.LongType` column named\u001B[39;00m\n\u001B[1;32m    759\u001B[0m \u001B[38;5;124;03m``id``, containing elements in a range from ``start`` to ``end`` (exclusive) with\u001B[39;00m\n\u001B[0;32m   (...)\u001B[0m\n\u001B[1;32m    802\u001B[0m \u001B[38;5;124;03m+---+\u001B[39;00m\n\u001B[1;32m    803\u001B[0m \u001B[38;5;124;03m\"\"\"\u001B[39;00m\n\u001B[1;32m    804\u001B[0m \u001B[38;5;28;01mif\u001B[39;00m numPartitions \u001B[38;5;129;01mis\u001B[39;00m \u001B[38;5;28;01mNone\u001B[39;00m:\n\u001B[0;32m--> 805\u001B[0m     numPartitions \u001B[38;5;241m=\u001B[39m \u001B[38;5;28;43mself\u001B[39;49m\u001B[38;5;241;43m.\u001B[39;49m\u001B[43m_sc\u001B[49m\u001B[38;5;241;43m.\u001B[39;49m\u001B[43mdefaultParallelism\u001B[49m\n\u001B[1;32m    807\u001B[0m \u001B[38;5;28;01mif\u001B[39;00m end \u001B[38;5;129;01mis\u001B[39;00m \u001B[38;5;28;01mNone\u001B[39;00m:\n\u001B[1;32m    808\u001B[0m     jdf \u001B[38;5;241m=\u001B[39m \u001B[38;5;28mself\u001B[39m\u001B[38;5;241m.\u001B[39m_jsparkSession\u001B[38;5;241m.\u001B[39mrange(\u001B[38;5;241m0\u001B[39m, \u001B[38;5;28mint\u001B[39m(start), \u001B[38;5;28mint\u001B[39m(step), \u001B[38;5;28mint\u001B[39m(numPartitions))\n",
      "File \u001B[0;32m/usr/local/lib/python3.9/dist-packages/pyspark/context.py:627\u001B[0m, in \u001B[0;36mSparkContext.defaultParallelism\u001B[0;34m(self)\u001B[0m\n\u001B[1;32m    615\u001B[0m \u001B[38;5;129m@property\u001B[39m\n\u001B[1;32m    616\u001B[0m \u001B[38;5;28;01mdef\u001B[39;00m \u001B[38;5;21mdefaultParallelism\u001B[39m(\u001B[38;5;28mself\u001B[39m) \u001B[38;5;241m-\u001B[39m\u001B[38;5;241m>\u001B[39m \u001B[38;5;28mint\u001B[39m:\n\u001B[1;32m    617\u001B[0m \u001B[38;5;250m    \u001B[39m\u001B[38;5;124;03m\"\"\"\u001B[39;00m\n\u001B[1;32m    618\u001B[0m \u001B[38;5;124;03m    Default level of parallelism to use when not given by user (e.g. for reduce tasks)\u001B[39;00m\n\u001B[1;32m    619\u001B[0m \n\u001B[0;32m   (...)\u001B[0m\n\u001B[1;32m    625\u001B[0m \u001B[38;5;124;03m    True\u001B[39;00m\n\u001B[1;32m    626\u001B[0m \u001B[38;5;124;03m    \"\"\"\u001B[39;00m\n\u001B[0;32m--> 627\u001B[0m     \u001B[38;5;28;01mreturn\u001B[39;00m \u001B[38;5;28;43mself\u001B[39;49m\u001B[38;5;241;43m.\u001B[39;49m\u001B[43m_jsc\u001B[49m\u001B[38;5;241;43m.\u001B[39;49m\u001B[43msc\u001B[49m\u001B[43m(\u001B[49m\u001B[43m)\u001B[49m\u001B[38;5;241;43m.\u001B[39;49m\u001B[43mdefaultParallelism\u001B[49m\u001B[43m(\u001B[49m\u001B[43m)\u001B[49m\n",
      "File \u001B[0;32m/usr/local/lib/python3.9/dist-packages/py4j/java_gateway.py:1322\u001B[0m, in \u001B[0;36mJavaMember.__call__\u001B[0;34m(self, *args)\u001B[0m\n\u001B[1;32m   1316\u001B[0m command \u001B[38;5;241m=\u001B[39m proto\u001B[38;5;241m.\u001B[39mCALL_COMMAND_NAME \u001B[38;5;241m+\u001B[39m\\\n\u001B[1;32m   1317\u001B[0m     \u001B[38;5;28mself\u001B[39m\u001B[38;5;241m.\u001B[39mcommand_header \u001B[38;5;241m+\u001B[39m\\\n\u001B[1;32m   1318\u001B[0m     args_command \u001B[38;5;241m+\u001B[39m\\\n\u001B[1;32m   1319\u001B[0m     proto\u001B[38;5;241m.\u001B[39mEND_COMMAND_PART\n\u001B[1;32m   1321\u001B[0m answer \u001B[38;5;241m=\u001B[39m \u001B[38;5;28mself\u001B[39m\u001B[38;5;241m.\u001B[39mgateway_client\u001B[38;5;241m.\u001B[39msend_command(command)\n\u001B[0;32m-> 1322\u001B[0m return_value \u001B[38;5;241m=\u001B[39m \u001B[43mget_return_value\u001B[49m\u001B[43m(\u001B[49m\n\u001B[1;32m   1323\u001B[0m \u001B[43m    \u001B[49m\u001B[43manswer\u001B[49m\u001B[43m,\u001B[49m\u001B[43m \u001B[49m\u001B[38;5;28;43mself\u001B[39;49m\u001B[38;5;241;43m.\u001B[39;49m\u001B[43mgateway_client\u001B[49m\u001B[43m,\u001B[49m\u001B[43m \u001B[49m\u001B[38;5;28;43mself\u001B[39;49m\u001B[38;5;241;43m.\u001B[39;49m\u001B[43mtarget_id\u001B[49m\u001B[43m,\u001B[49m\u001B[43m \u001B[49m\u001B[38;5;28;43mself\u001B[39;49m\u001B[38;5;241;43m.\u001B[39;49m\u001B[43mname\u001B[49m\u001B[43m)\u001B[49m\n\u001B[1;32m   1325\u001B[0m \u001B[38;5;28;01mfor\u001B[39;00m temp_arg \u001B[38;5;129;01min\u001B[39;00m temp_args:\n\u001B[1;32m   1326\u001B[0m     \u001B[38;5;28;01mif\u001B[39;00m \u001B[38;5;28mhasattr\u001B[39m(temp_arg, \u001B[38;5;124m\"\u001B[39m\u001B[38;5;124m_detach\u001B[39m\u001B[38;5;124m\"\u001B[39m):\n",
      "File \u001B[0;32m/usr/local/lib/python3.9/dist-packages/pyspark/errors/exceptions/captured.py:169\u001B[0m, in \u001B[0;36mcapture_sql_exception.<locals>.deco\u001B[0;34m(*a, **kw)\u001B[0m\n\u001B[1;32m    167\u001B[0m \u001B[38;5;28;01mdef\u001B[39;00m \u001B[38;5;21mdeco\u001B[39m(\u001B[38;5;241m*\u001B[39ma: Any, \u001B[38;5;241m*\u001B[39m\u001B[38;5;241m*\u001B[39mkw: Any) \u001B[38;5;241m-\u001B[39m\u001B[38;5;241m>\u001B[39m Any:\n\u001B[1;32m    168\u001B[0m     \u001B[38;5;28;01mtry\u001B[39;00m:\n\u001B[0;32m--> 169\u001B[0m         \u001B[38;5;28;01mreturn\u001B[39;00m \u001B[43mf\u001B[49m\u001B[43m(\u001B[49m\u001B[38;5;241;43m*\u001B[39;49m\u001B[43ma\u001B[49m\u001B[43m,\u001B[49m\u001B[43m \u001B[49m\u001B[38;5;241;43m*\u001B[39;49m\u001B[38;5;241;43m*\u001B[39;49m\u001B[43mkw\u001B[49m\u001B[43m)\u001B[49m\n\u001B[1;32m    170\u001B[0m     \u001B[38;5;28;01mexcept\u001B[39;00m Py4JJavaError \u001B[38;5;28;01mas\u001B[39;00m e:\n\u001B[1;32m    171\u001B[0m         converted \u001B[38;5;241m=\u001B[39m convert_exception(e\u001B[38;5;241m.\u001B[39mjava_exception)\n",
      "File \u001B[0;32m/usr/local/lib/python3.9/dist-packages/py4j/protocol.py:326\u001B[0m, in \u001B[0;36mget_return_value\u001B[0;34m(answer, gateway_client, target_id, name)\u001B[0m\n\u001B[1;32m    324\u001B[0m value \u001B[38;5;241m=\u001B[39m OUTPUT_CONVERTER[\u001B[38;5;28mtype\u001B[39m](answer[\u001B[38;5;241m2\u001B[39m:], gateway_client)\n\u001B[1;32m    325\u001B[0m \u001B[38;5;28;01mif\u001B[39;00m answer[\u001B[38;5;241m1\u001B[39m] \u001B[38;5;241m==\u001B[39m REFERENCE_TYPE:\n\u001B[0;32m--> 326\u001B[0m     \u001B[38;5;28;01mraise\u001B[39;00m Py4JJavaError(\n\u001B[1;32m    327\u001B[0m         \u001B[38;5;124m\"\u001B[39m\u001B[38;5;124mAn error occurred while calling \u001B[39m\u001B[38;5;132;01m{0}\u001B[39;00m\u001B[38;5;132;01m{1}\u001B[39;00m\u001B[38;5;132;01m{2}\u001B[39;00m\u001B[38;5;124m.\u001B[39m\u001B[38;5;130;01m\\n\u001B[39;00m\u001B[38;5;124m\"\u001B[39m\u001B[38;5;241m.\u001B[39m\n\u001B[1;32m    328\u001B[0m         \u001B[38;5;28mformat\u001B[39m(target_id, \u001B[38;5;124m\"\u001B[39m\u001B[38;5;124m.\u001B[39m\u001B[38;5;124m\"\u001B[39m, name), value)\n\u001B[1;32m    329\u001B[0m \u001B[38;5;28;01melse\u001B[39;00m:\n\u001B[1;32m    330\u001B[0m     \u001B[38;5;28;01mraise\u001B[39;00m Py4JError(\n\u001B[1;32m    331\u001B[0m         \u001B[38;5;124m\"\u001B[39m\u001B[38;5;124mAn error occurred while calling \u001B[39m\u001B[38;5;132;01m{0}\u001B[39;00m\u001B[38;5;132;01m{1}\u001B[39;00m\u001B[38;5;132;01m{2}\u001B[39;00m\u001B[38;5;124m. Trace:\u001B[39m\u001B[38;5;130;01m\\n\u001B[39;00m\u001B[38;5;132;01m{3}\u001B[39;00m\u001B[38;5;130;01m\\n\u001B[39;00m\u001B[38;5;124m\"\u001B[39m\u001B[38;5;241m.\u001B[39m\n\u001B[1;32m    332\u001B[0m         \u001B[38;5;28mformat\u001B[39m(target_id, \u001B[38;5;124m\"\u001B[39m\u001B[38;5;124m.\u001B[39m\u001B[38;5;124m\"\u001B[39m, name, value))\n",
      "\u001B[0;31mPy4JJavaError\u001B[0m: An error occurred while calling o62.defaultParallelism.\n: java.lang.IllegalStateException: Cannot call methods on a stopped SparkContext.\nThis stopped SparkContext was created at:\n\norg.apache.spark.api.java.JavaSparkContext.<init>(JavaSparkContext.scala:58)\nsun.reflect.NativeConstructorAccessorImpl.newInstance0(Native Method)\nsun.reflect.NativeConstructorAccessorImpl.newInstance(NativeConstructorAccessorImpl.java:62)\nsun.reflect.DelegatingConstructorAccessorImpl.newInstance(DelegatingConstructorAccessorImpl.java:45)\njava.lang.reflect.Constructor.newInstance(Constructor.java:423)\npy4j.reflection.MethodInvoker.invoke(MethodInvoker.java:247)\npy4j.reflection.ReflectionEngine.invoke(ReflectionEngine.java:374)\npy4j.Gateway.invoke(Gateway.java:238)\npy4j.commands.ConstructorCommand.invokeConstructor(ConstructorCommand.java:80)\npy4j.commands.ConstructorCommand.execute(ConstructorCommand.java:69)\npy4j.ClientServerConnection.waitForCommands(ClientServerConnection.java:182)\npy4j.ClientServerConnection.run(ClientServerConnection.java:106)\njava.lang.Thread.run(Thread.java:750)\n\nThe currently active SparkContext was created at:\n\n(No active SparkContext.)\n         \n\tat org.apache.spark.SparkContext.assertNotStopped(SparkContext.scala:120)\n\tat org.apache.spark.SparkContext.defaultParallelism(SparkContext.scala:2559)\n\tat sun.reflect.NativeMethodAccessorImpl.invoke0(Native Method)\n\tat sun.reflect.NativeMethodAccessorImpl.invoke(NativeMethodAccessorImpl.java:62)\n\tat sun.reflect.DelegatingMethodAccessorImpl.invoke(DelegatingMethodAccessorImpl.java:43)\n\tat java.lang.reflect.Method.invoke(Method.java:498)\n\tat py4j.reflection.MethodInvoker.invoke(MethodInvoker.java:244)\n\tat py4j.reflection.ReflectionEngine.invoke(ReflectionEngine.java:374)\n\tat py4j.Gateway.invoke(Gateway.java:282)\n\tat py4j.commands.AbstractCommand.invokeMethod(AbstractCommand.java:132)\n\tat py4j.commands.CallCommand.execute(CallCommand.java:79)\n\tat py4j.ClientServerConnection.waitForCommands(ClientServerConnection.java:182)\n\tat py4j.ClientServerConnection.run(ClientServerConnection.java:106)\n\tat java.lang.Thread.run(Thread.java:750)\n"
     ]
    }
   ],
   "source": [
    "spark.conf.set(\"spark.sql.execution.arrow.pyspark.enabled\", True)\n",
    "%timeit ps.range(300000).to_pandas()"
   ]
  },
  {
   "cell_type": "code",
   "execution_count": null,
   "metadata": {
    "pycharm": {
     "name": "#%%\n"
    }
   },
   "outputs": [],
   "source": [
    "spark.conf.set(\"spark.sql.execution.arrow.pyspark.enabled\", False)\n",
    "%timeit ps.range(300000).to_pandas()"
   ]
  },
  {
   "cell_type": "code",
   "execution_count": 35,
   "metadata": {
    "pycharm": {
     "name": "#%%\n"
    }
   },
   "outputs": [],
   "source": [
    "from pyspark.ml.evaluation import ClusteringEvaluator\n",
    "from pyspark.ml.tuning import ParamGridBuilder, CrossValidator\n",
    "from pyspark.ml.clustering import KMeans, GaussianMixture, BisectingKMeans\n",
    "# from pyspark_dbscan import DBSCAN\n",
    "from pyspark.ml.feature import VectorAssembler\n",
    "import matplotlib.pyplot as plt"
   ]
  },
  {
   "cell_type": "markdown",
   "metadata": {
    "pycharm": {
     "name": "#%% md\n"
    }
   },
   "source": [
    "## 3. Load and Store Data\n",
    "We will now load data from a local CSV and store it to Hadoop partitioned by column.\n",
    "Afterward you can access Hadoop UI to explore the saved parquet files.\n",
    "Access Hadoop UI on 'http://localhost:9870' (Utilities -> Browse the files system )"
   ]
  },
  {
   "cell_type": "code",
   "execution_count": 3,
   "metadata": {
    "pycharm": {
     "name": "#%%\n"
    }
   },
   "outputs": [],
   "source": [
    "import pandas as pd\n",
    "from pyspark.sql.types import *\n",
    "from pyspark.sql import functions as F\n",
    "import os\n",
    "import time\n",
    "epochNow = int(time.time())"
   ]
  },
  {
   "cell_type": "code",
   "execution_count": 4,
   "metadata": {
    "pycharm": {
     "name": "#%%\n"
    }
   },
   "outputs": [],
   "source": [
    "with open('plants.data', 'r', encoding=\"ISO-8859-1\") as f:\n",
    "    lines = f.readlines()"
   ]
  },
  {
   "cell_type": "code",
   "execution_count": 7,
   "metadata": {
    "pycharm": {
     "name": "#%%\n"
    }
   },
   "outputs": [],
   "source": [
    "plant2states = {}\n",
    "for line in lines:\n",
    "    split = line[:-1].split(',')\n",
    "    plant2states[split[0]] = split[1:]\n",
    "    \n",
    "states = set()\n",
    "for states_list in plant2states.values():\n",
    "    for state in states_list:\n",
    "        states.add(state)\n",
    "\n",
    "data = {state: [] for state in ['plant'] + list(states)}\n",
    "for plant, states_list in plant2states.items():\n",
    "    data['plant'].append(plant)\n",
    "    for state in states:\n",
    "        data[state].append(1 if state in states_list else 0)"
   ]
  },
  {
   "cell_type": "code",
   "execution_count": 8,
   "metadata": {
    "pycharm": {
     "name": "#%%\n"
    }
   },
   "outputs": [
    {
     "data": {
      "text/html": [
       "<div>\n",
       "<style scoped>\n",
       "    .dataframe tbody tr th:only-of-type {\n",
       "        vertical-align: middle;\n",
       "    }\n",
       "\n",
       "    .dataframe tbody tr th {\n",
       "        vertical-align: top;\n",
       "    }\n",
       "\n",
       "    .dataframe thead th {\n",
       "        text-align: right;\n",
       "    }\n",
       "</style>\n",
       "<table border=\"1\" class=\"dataframe\">\n",
       "  <thead>\n",
       "    <tr style=\"text-align: right;\">\n",
       "      <th></th>\n",
       "      <th>plant</th>\n",
       "      <th>ma</th>\n",
       "      <th>il</th>\n",
       "      <th>nu</th>\n",
       "      <th>nb</th>\n",
       "      <th>in</th>\n",
       "      <th>fraspm</th>\n",
       "      <th>mt</th>\n",
       "      <th>co</th>\n",
       "      <th>or</th>\n",
       "      <th>...</th>\n",
       "      <th>nd</th>\n",
       "      <th>nh</th>\n",
       "      <th>ak</th>\n",
       "      <th>ks</th>\n",
       "      <th>id</th>\n",
       "      <th>dengl</th>\n",
       "      <th>al</th>\n",
       "      <th>vt</th>\n",
       "      <th>nm</th>\n",
       "      <th>ab</th>\n",
       "    </tr>\n",
       "  </thead>\n",
       "  <tbody>\n",
       "    <tr>\n",
       "      <th>0</th>\n",
       "      <td>abelia</td>\n",
       "      <td>0</td>\n",
       "      <td>0</td>\n",
       "      <td>0</td>\n",
       "      <td>0</td>\n",
       "      <td>0</td>\n",
       "      <td>0</td>\n",
       "      <td>0</td>\n",
       "      <td>0</td>\n",
       "      <td>0</td>\n",
       "      <td>...</td>\n",
       "      <td>0</td>\n",
       "      <td>0</td>\n",
       "      <td>0</td>\n",
       "      <td>0</td>\n",
       "      <td>0</td>\n",
       "      <td>0</td>\n",
       "      <td>0</td>\n",
       "      <td>0</td>\n",
       "      <td>0</td>\n",
       "      <td>0</td>\n",
       "    </tr>\n",
       "    <tr>\n",
       "      <th>1</th>\n",
       "      <td>abelia x grandiflora</td>\n",
       "      <td>0</td>\n",
       "      <td>0</td>\n",
       "      <td>0</td>\n",
       "      <td>0</td>\n",
       "      <td>0</td>\n",
       "      <td>0</td>\n",
       "      <td>0</td>\n",
       "      <td>0</td>\n",
       "      <td>0</td>\n",
       "      <td>...</td>\n",
       "      <td>0</td>\n",
       "      <td>0</td>\n",
       "      <td>0</td>\n",
       "      <td>0</td>\n",
       "      <td>0</td>\n",
       "      <td>0</td>\n",
       "      <td>0</td>\n",
       "      <td>0</td>\n",
       "      <td>0</td>\n",
       "      <td>0</td>\n",
       "    </tr>\n",
       "    <tr>\n",
       "      <th>2</th>\n",
       "      <td>abelmoschus</td>\n",
       "      <td>0</td>\n",
       "      <td>1</td>\n",
       "      <td>0</td>\n",
       "      <td>0</td>\n",
       "      <td>0</td>\n",
       "      <td>0</td>\n",
       "      <td>0</td>\n",
       "      <td>0</td>\n",
       "      <td>0</td>\n",
       "      <td>...</td>\n",
       "      <td>0</td>\n",
       "      <td>0</td>\n",
       "      <td>0</td>\n",
       "      <td>0</td>\n",
       "      <td>0</td>\n",
       "      <td>0</td>\n",
       "      <td>0</td>\n",
       "      <td>0</td>\n",
       "      <td>0</td>\n",
       "      <td>0</td>\n",
       "    </tr>\n",
       "    <tr>\n",
       "      <th>3</th>\n",
       "      <td>abelmoschus esculentus</td>\n",
       "      <td>0</td>\n",
       "      <td>1</td>\n",
       "      <td>0</td>\n",
       "      <td>0</td>\n",
       "      <td>0</td>\n",
       "      <td>0</td>\n",
       "      <td>0</td>\n",
       "      <td>0</td>\n",
       "      <td>0</td>\n",
       "      <td>...</td>\n",
       "      <td>0</td>\n",
       "      <td>0</td>\n",
       "      <td>0</td>\n",
       "      <td>0</td>\n",
       "      <td>0</td>\n",
       "      <td>0</td>\n",
       "      <td>0</td>\n",
       "      <td>0</td>\n",
       "      <td>0</td>\n",
       "      <td>0</td>\n",
       "    </tr>\n",
       "    <tr>\n",
       "      <th>4</th>\n",
       "      <td>abelmoschus moschatus</td>\n",
       "      <td>0</td>\n",
       "      <td>0</td>\n",
       "      <td>0</td>\n",
       "      <td>0</td>\n",
       "      <td>0</td>\n",
       "      <td>0</td>\n",
       "      <td>0</td>\n",
       "      <td>0</td>\n",
       "      <td>0</td>\n",
       "      <td>...</td>\n",
       "      <td>0</td>\n",
       "      <td>0</td>\n",
       "      <td>0</td>\n",
       "      <td>0</td>\n",
       "      <td>0</td>\n",
       "      <td>0</td>\n",
       "      <td>0</td>\n",
       "      <td>0</td>\n",
       "      <td>0</td>\n",
       "      <td>0</td>\n",
       "    </tr>\n",
       "  </tbody>\n",
       "</table>\n",
       "<p>5 rows × 71 columns</p>\n",
       "</div>"
      ],
      "text/plain": [
       "                    plant  ma  il  nu  nb  in  fraspm  mt  co  or  ...  nd  \\\n",
       "0                  abelia   0   0   0   0   0       0   0   0   0  ...   0   \n",
       "1    abelia x grandiflora   0   0   0   0   0       0   0   0   0  ...   0   \n",
       "2             abelmoschus   0   1   0   0   0       0   0   0   0  ...   0   \n",
       "3  abelmoschus esculentus   0   1   0   0   0       0   0   0   0  ...   0   \n",
       "4   abelmoschus moschatus   0   0   0   0   0       0   0   0   0  ...   0   \n",
       "\n",
       "   nh  ak  ks  id  dengl  al  vt  nm  ab  \n",
       "0   0   0   0   0      0   0   0   0   0  \n",
       "1   0   0   0   0      0   0   0   0   0  \n",
       "2   0   0   0   0      0   0   0   0   0  \n",
       "3   0   0   0   0      0   0   0   0   0  \n",
       "4   0   0   0   0      0   0   0   0   0  \n",
       "\n",
       "[5 rows x 71 columns]"
      ]
     },
     "execution_count": 8,
     "metadata": {},
     "output_type": "execute_result"
    }
   ],
   "source": [
    "# Create DataFrame from dictionary\n",
    "df = ps.DataFrame(data)\n",
    "\n",
    "# Show DataFrame\n",
    "df"
   ]
  },
  {
   "cell_type": "code",
   "execution_count": 71,
   "metadata": {
    "pycharm": {
     "name": "#%%\n"
    }
   },
   "outputs": [
    {
     "data": {
      "text/plain": [
       "Index(['plant', 'ma', 'il', 'nu', 'nb', 'in', 'fraspm', 'mt', 'co', 'or', 'pa',\n",
       "       'ms', 'ga', 'ny', 'nj', 'ri', 'va', 'fl', 'nc', 'az', 'sc', 'nt', 'on',\n",
       "       'sk', 'la', 'oh', 'ca', 'yt', 'wi', 'wy', 'mn', 'de', 'gl', 'mb', 'ut',\n",
       "       'dc', 'mi', 'ar', 'mo', 'vi', 'ia', 'nv', 'ok', 'me', 'hi', 'qc', 'tx',\n",
       "       'pr', 'sd', 'lb', 'ky', 'md', 'ns', 'bc', 'nf', 'pe', 'wa', 'ct', 'tn',\n",
       "       'wv', 'ne', 'nd', 'nh', 'ak', 'ks', 'id', 'dengl', 'al', 'vt', 'nm',\n",
       "       'ab'],\n",
       "      dtype='object')"
      ]
     },
     "execution_count": 71,
     "metadata": {},
     "output_type": "execute_result"
    }
   ],
   "source": [
    "df.columns"
   ]
  },
  {
   "cell_type": "code",
   "execution_count": 70,
   "metadata": {
    "pycharm": {
     "name": "#%%\n"
    }
   },
   "outputs": [
    {
     "name": "stderr",
     "output_type": "stream",
     "text": [
      "/tmp/ipykernel_16/3972277539.py:7: FutureWarning: The default value of numeric_only in DataFrame.corr is deprecated. In a future version, it will default to False. Select only valid columns or specify the value of numeric_only to silence this warning.\n",
      "  sns.heatmap(df.corr(), cmap='coolwarm', ax=ax)\n"
     ]
    },
    {
     "data": {
      "image/png": "[encoded data removed]",
      "text/plain": [
       "<Figure size 2000x2000 with 2 Axes>"
      ]
     },
     "metadata": {},
     "output_type": "display_data"
    }
   ],
   "source": [
    "import seaborn as sns\n",
    "\n",
    "# Set the figure size\n",
    "fig, ax = plt.subplots(figsize=(20, 20))\n",
    "\n",
    "# Plot the correlation matrix as a heatmap\n",
    "sns.heatmap(df.corr(), cmap='coolwarm', ax=ax)\n",
    "plt.title(\"Pairwise Correlation Heatmap\")\n",
    "plt.show()"
   ]
  },
  {
   "cell_type": "code",
   "execution_count": 117,
   "metadata": {
    "pycharm": {
     "name": "#%%\n"
    }
   },
   "outputs": [
    {
     "name": "stderr",
     "output_type": "stream",
     "text": [
      "/usr/local/lib/python3.9/dist-packages/pyspark/sql/pandas/conversion.py:327: FutureWarning: iteritems is deprecated and will be removed in a future version. Use .items instead.\n",
      "  (\n"
     ]
    }
   ],
   "source": [
    "# Create a SparkSession\n",
    "spark = SparkSession.builder.getOrCreate()\n",
    "\n",
    "# Convert Pandas DataFrame to PySpark DataFrame\n",
    "pyspark_df = spark.createDataFrame(df)"
   ]
  },
  {
   "cell_type": "code",
   "execution_count": null,
   "metadata": {
    "pycharm": {
     "name": "#%%\n"
    }
   },
   "outputs": [],
   "source": [
    "# Write Dataframe into HDFS\n",
    "# Repartition it by \"Country\" column before storing as parquet files in Hadoop\n",
    "now = int(time.time())\n",
    "pyspark_df.write.option(\"header\",True) \\\n",
    "        .mode(\"overwrite\") \\\n",
    "        .parquet(\"hdfs://hadoop-namenode:9000/plants/{}.parquet\".format(now))\n",
    "print(\"Plants Dataframe stored in Hadoop.\")"
   ]
  },
  {
   "cell_type": "code",
   "execution_count": null,
   "metadata": {
    "pycharm": {
     "name": "#%%\n"
    }
   },
   "outputs": [],
   "source": [
    "# Read from HDFS to confirm it was successfully stored\n",
    "pyspark_df = spark.read.parquet(\"hdfs://hadoop-namenode:9000/plants/{}.parquet\".format(now))\n",
    "print(\"Plants Dataframe read from Hadoop : \")\n",
    "pyspark_df.show()"
   ]
  },
  {
   "cell_type": "code",
   "execution_count": 118,
   "metadata": {
    "pycharm": {
     "name": "#%%\n"
    }
   },
   "outputs": [],
   "source": [
    "# Select the region columns for clustering\n",
    "region_columns = pyspark_df.columns[1:]\n",
    "\n",
    "# Convert the region columns to a vector representation\n",
    "assembler = VectorAssembler(inputCols=region_columns, outputCol=\"features\")\n",
    "feature_vector = assembler.transform(pyspark_df)"
   ]
  },
  {
   "cell_type": "markdown",
   "metadata": {
    "pycharm": {
     "name": "#%% md\n"
    }
   },
   "source": [
    "# K-means"
   ]
  },
  {
   "cell_type": "code",
   "execution_count": 120,
   "metadata": {
    "pycharm": {
     "name": "#%%\n"
    }
   },
   "outputs": [
    {
     "name": "stderr",
     "output_type": "stream",
     "text": [
      "23/06/29 08:45:32 WARN CacheManager: Asked to cache already cached data.\n",
      "23/06/29 08:45:32 WARN CacheManager: Asked to cache already cached data.\n",
      "23/06/29 08:45:32 WARN TaskSetManager: Stage 16320 contains a task of very large size (2855 KiB). The maximum recommended task size is 1000 KiB.\n",
      "23/06/29 08:45:32 WARN TaskSetManager: Stage 16321 contains a task of very large size (2855 KiB). The maximum recommended task size is 1000 KiB.\n",
      "23/06/29 08:45:32 WARN TaskSetManager: Stage 16322 contains a task of very large size (2855 KiB). The maximum recommended task size is 1000 KiB.\n",
      "23/06/29 08:45:33 WARN TaskSetManager: Stage 16323 contains a task of very large size (2846 KiB). The maximum recommended task size is 1000 KiB.\n",
      "23/06/29 08:45:33 WARN TaskSetManager: Stage 16324 contains a task of very large size (2855 KiB). The maximum recommended task size is 1000 KiB.\n",
      "23/06/29 08:45:33 WARN TaskSetManager: Stage 16325 contains a task of very large size (2846 KiB). The maximum recommended task size is 1000 KiB.\n",
      "23/06/29 08:45:33 WARN TaskSetManager: Stage 16326 contains a task of very large size (2855 KiB). The maximum recommended task size is 1000 KiB.\n",
      "23/06/29 08:45:33 WARN TaskSetManager: Stage 16328 contains a task of very large size (2855 KiB). The maximum recommended task size is 1000 KiB.\n",
      "23/06/29 08:45:33 WARN TaskSetManager: Stage 16330 contains a task of very large size (2855 KiB). The maximum recommended task size is 1000 KiB.\n",
      "23/06/29 08:45:33 WARN TaskSetManager: Stage 16332 contains a task of very large size (2855 KiB). The maximum recommended task size is 1000 KiB.\n",
      "23/06/29 08:45:33 WARN TaskSetManager: Stage 16334 contains a task of very large size (2855 KiB). The maximum recommended task size is 1000 KiB.\n",
      "23/06/29 08:45:33 WARN TaskSetManager: Stage 16336 contains a task of very large size (2855 KiB). The maximum recommended task size is 1000 KiB.\n",
      "23/06/29 08:45:33 WARN TaskSetManager: Stage 16338 contains a task of very large size (2846 KiB). The maximum recommended task size is 1000 KiB.\n",
      "23/06/29 08:45:33 WARN TaskSetManager: Stage 16340 contains a task of very large size (2855 KiB). The maximum recommended task size is 1000 KiB.\n",
      "23/06/29 08:45:33 WARN TaskSetManager: Stage 16342 contains a task of very large size (2855 KiB). The maximum recommended task size is 1000 KiB.\n",
      "23/06/29 08:45:34 WARN TaskSetManager: Stage 16344 contains a task of very large size (2855 KiB). The maximum recommended task size is 1000 KiB.\n",
      "23/06/29 08:45:34 WARN TaskSetManager: Stage 16346 contains a task of very large size (2855 KiB). The maximum recommended task size is 1000 KiB.\n",
      "23/06/29 08:45:34 WARN TaskSetManager: Stage 16348 contains a task of very large size (2846 KiB). The maximum recommended task size is 1000 KiB.\n",
      "23/06/29 08:45:34 WARN TaskSetManager: Stage 16349 contains a task of very large size (2855 KiB). The maximum recommended task size is 1000 KiB.\n",
      "23/06/29 08:45:34 WARN TaskSetManager: Stage 16350 contains a task of very large size (2855 KiB). The maximum recommended task size is 1000 KiB.\n",
      "23/06/29 08:45:34 WARN TaskSetManager: Stage 16351 contains a task of very large size (2846 KiB). The maximum recommended task size is 1000 KiB.\n",
      "23/06/29 08:45:34 WARN TaskSetManager: Stage 16352 contains a task of very large size (2855 KiB). The maximum recommended task size is 1000 KiB.\n",
      "23/06/29 08:45:35 WARN TaskSetManager: Stage 16353 contains a task of very large size (2855 KiB). The maximum recommended task size is 1000 KiB.\n",
      "23/06/29 08:45:35 WARN TaskSetManager: Stage 16354 contains a task of very large size (2846 KiB). The maximum recommended task size is 1000 KiB.\n",
      "23/06/29 08:45:35 WARN TaskSetManager: Stage 16356 contains a task of very large size (2846 KiB). The maximum recommended task size is 1000 KiB.\n",
      "23/06/29 08:45:35 WARN TaskSetManager: Stage 16358 contains a task of very large size (2855 KiB). The maximum recommended task size is 1000 KiB.\n",
      "23/06/29 08:45:35 WARN TaskSetManager: Stage 16360 contains a task of very large size (2846 KiB). The maximum recommended task size is 1000 KiB.\n",
      "23/06/29 08:45:35 WARN TaskSetManager: Stage 16362 contains a task of very large size (2855 KiB). The maximum recommended task size is 1000 KiB.\n",
      "23/06/29 08:45:35 WARN TaskSetManager: Stage 16364 contains a task of very large size (2855 KiB). The maximum recommended task size is 1000 KiB.\n",
      "23/06/29 08:45:35 WARN TaskSetManager: Stage 16366 contains a task of very large size (2855 KiB). The maximum recommended task size is 1000 KiB.\n",
      "23/06/29 08:45:35 WARN TaskSetManager: Stage 16368 contains a task of very large size (2855 KiB). The maximum recommended task size is 1000 KiB.\n",
      "23/06/29 08:45:35 WARN TaskSetManager: Stage 16370 contains a task of very large size (2855 KiB). The maximum recommended task size is 1000 KiB.\n",
      "23/06/29 08:45:35 WARN TaskSetManager: Stage 16372 contains a task of very large size (2855 KiB). The maximum recommended task size is 1000 KiB.\n",
      "23/06/29 08:45:35 WARN TaskSetManager: Stage 16374 contains a task of very large size (2846 KiB). The maximum recommended task size is 1000 KiB.\n",
      "23/06/29 08:45:35 WARN TaskSetManager: Stage 16376 contains a task of very large size (2855 KiB). The maximum recommended task size is 1000 KiB.\n",
      "23/06/29 08:45:35 WARN TaskSetManager: Stage 16378 contains a task of very large size (2846 KiB). The maximum recommended task size is 1000 KiB.\n",
      "23/06/29 08:45:35 WARN TaskSetManager: Stage 16380 contains a task of very large size (2855 KiB). The maximum recommended task size is 1000 KiB.\n",
      "23/06/29 08:45:35 WARN TaskSetManager: Stage 16382 contains a task of very large size (2846 KiB). The maximum recommended task size is 1000 KiB.\n",
      "23/06/29 08:45:36 WARN TaskSetManager: Stage 16384 contains a task of very large size (2855 KiB). The maximum recommended task size is 1000 KiB.\n",
      "                                                                                \r"
     ]
    },
    {
     "ename": "KeyboardInterrupt",
     "evalue": "",
     "output_type": "error",
     "traceback": [
      "\u001B[0;31m---------------------------------------------------------------------------\u001B[0m",
      "\u001B[0;31mIndexError\u001B[0m                                Traceback (most recent call last)",
      "File \u001B[0;32m/usr/lib/python3.9/multiprocessing/pool.py:853\u001B[0m, in \u001B[0;36mIMapIterator.next\u001B[0;34m(self, timeout)\u001B[0m\n\u001B[1;32m    852\u001B[0m \u001B[38;5;28;01mtry\u001B[39;00m:\n\u001B[0;32m--> 853\u001B[0m     item \u001B[38;5;241m=\u001B[39m \u001B[38;5;28;43mself\u001B[39;49m\u001B[38;5;241;43m.\u001B[39;49m\u001B[43m_items\u001B[49m\u001B[38;5;241;43m.\u001B[39;49m\u001B[43mpopleft\u001B[49m\u001B[43m(\u001B[49m\u001B[43m)\u001B[49m\n\u001B[1;32m    854\u001B[0m \u001B[38;5;28;01mexcept\u001B[39;00m \u001B[38;5;167;01mIndexError\u001B[39;00m:\n",
      "\u001B[0;31mIndexError\u001B[0m: pop from an empty deque",
      "\nDuring handling of the above exception, another exception occurred:\n",
      "\u001B[0;31mKeyboardInterrupt\u001B[0m                         Traceback (most recent call last)",
      "Cell \u001B[0;32mIn[120], line 24\u001B[0m\n\u001B[1;32m     18\u001B[0m crossval \u001B[38;5;241m=\u001B[39m CrossValidator(estimator\u001B[38;5;241m=\u001B[39mkmeans,\n\u001B[1;32m     19\u001B[0m                           estimatorParamMaps\u001B[38;5;241m=\u001B[39mkmeans_param_grid,\n\u001B[1;32m     20\u001B[0m                           evaluator\u001B[38;5;241m=\u001B[39mevaluator,\n\u001B[1;32m     21\u001B[0m                           numFolds\u001B[38;5;241m=\u001B[39m\u001B[38;5;241m5\u001B[39m)\n\u001B[1;32m     23\u001B[0m \u001B[38;5;66;03m# Fit the cross-validator to the data\u001B[39;00m\n\u001B[0;32m---> 24\u001B[0m crossval_model \u001B[38;5;241m=\u001B[39m \u001B[43mcrossval\u001B[49m\u001B[38;5;241;43m.\u001B[39;49m\u001B[43mfit\u001B[49m\u001B[43m(\u001B[49m\u001B[43mfeature_vector\u001B[49m\u001B[43m)\u001B[49m\n\u001B[1;32m     26\u001B[0m \u001B[38;5;66;03m# Get the best K-means model\u001B[39;00m\n\u001B[1;32m     27\u001B[0m best_kmeans_model \u001B[38;5;241m=\u001B[39m crossval_model\u001B[38;5;241m.\u001B[39mbestModel\n",
      "File \u001B[0;32m/usr/local/lib/python3.9/dist-packages/pyspark/ml/base.py:129\u001B[0m, in \u001B[0;36mfit\u001B[0;34m(self, dataset, params)\u001B[0m\n\u001B[1;32m    113\u001B[0m \u001B[38;5;129m@abstractmethod\u001B[39m\n\u001B[1;32m    114\u001B[0m \u001B[38;5;28;01mdef\u001B[39;00m \u001B[38;5;21m_fit\u001B[39m(\u001B[38;5;28mself\u001B[39m, dataset: DataFrame) \u001B[38;5;241m-\u001B[39m\u001B[38;5;241m>\u001B[39m M:\n\u001B[1;32m    115\u001B[0m \u001B[38;5;250m    \u001B[39m\u001B[38;5;124;03m\"\"\"\u001B[39;00m\n\u001B[1;32m    116\u001B[0m \u001B[38;5;124;03m    Fits a model to the input dataset. This is called by the default implementation of fit.\u001B[39;00m\n\u001B[1;32m    117\u001B[0m \n\u001B[0;32m   (...)\u001B[0m\n\u001B[1;32m    127\u001B[0m \u001B[38;5;124;03m        fitted model\u001B[39;00m\n\u001B[1;32m    128\u001B[0m \u001B[38;5;124;03m    \"\"\"\u001B[39;00m\n\u001B[0;32m--> 129\u001B[0m     \u001B[38;5;28;01mraise\u001B[39;00m \u001B[38;5;167;01mNotImplementedError\u001B[39;00m()\n",
      "File \u001B[0;32m/usr/local/lib/python3.9/dist-packages/pyspark/ml/tuning.py:352\u001B[0m, in \u001B[0;36m_fit\u001B[0;34m(self, dataset)\u001B[0m\n\u001B[1;32m    350\u001B[0m javaParam \u001B[38;5;241m=\u001B[39m javaPair\u001B[38;5;241m.\u001B[39mparam()\n\u001B[1;32m    351\u001B[0m pyParam \u001B[38;5;241m=\u001B[39m \u001B[38;5;28;01mNone\u001B[39;00m\n\u001B[0;32m--> 352\u001B[0m \u001B[38;5;28;01mfor\u001B[39;00m pyStage, javaStage \u001B[38;5;129;01min\u001B[39;00m stagePairs:\n\u001B[1;32m    353\u001B[0m     \u001B[38;5;28;01mif\u001B[39;00m pyStage\u001B[38;5;241m.\u001B[39m_testOwnParam(javaParam\u001B[38;5;241m.\u001B[39mparent(), javaParam\u001B[38;5;241m.\u001B[39mname()):\n\u001B[1;32m    354\u001B[0m         pyParam \u001B[38;5;241m=\u001B[39m pyStage\u001B[38;5;241m.\u001B[39mgetParam(javaParam\u001B[38;5;241m.\u001B[39mname())\n",
      "File \u001B[0;32m/usr/lib/python3.9/multiprocessing/pool.py:858\u001B[0m, in \u001B[0;36mIMapIterator.next\u001B[0;34m(self, timeout)\u001B[0m\n\u001B[1;32m    856\u001B[0m     \u001B[38;5;28mself\u001B[39m\u001B[38;5;241m.\u001B[39m_pool \u001B[38;5;241m=\u001B[39m \u001B[38;5;28;01mNone\u001B[39;00m\n\u001B[1;32m    857\u001B[0m     \u001B[38;5;28;01mraise\u001B[39;00m \u001B[38;5;167;01mStopIteration\u001B[39;00m \u001B[38;5;28;01mfrom\u001B[39;00m \u001B[38;5;28mNone\u001B[39m\n\u001B[0;32m--> 858\u001B[0m \u001B[38;5;28;43mself\u001B[39;49m\u001B[38;5;241;43m.\u001B[39;49m\u001B[43m_cond\u001B[49m\u001B[38;5;241;43m.\u001B[39;49m\u001B[43mwait\u001B[49m\u001B[43m(\u001B[49m\u001B[43mtimeout\u001B[49m\u001B[43m)\u001B[49m\n\u001B[1;32m    859\u001B[0m \u001B[38;5;28;01mtry\u001B[39;00m:\n\u001B[1;32m    860\u001B[0m     item \u001B[38;5;241m=\u001B[39m \u001B[38;5;28mself\u001B[39m\u001B[38;5;241m.\u001B[39m_items\u001B[38;5;241m.\u001B[39mpopleft()\n",
      "File \u001B[0;32m/usr/lib/python3.9/threading.py:312\u001B[0m, in \u001B[0;36mCondition.wait\u001B[0;34m(self, timeout)\u001B[0m\n\u001B[1;32m    310\u001B[0m \u001B[38;5;28;01mtry\u001B[39;00m:    \u001B[38;5;66;03m# restore state no matter what (e.g., KeyboardInterrupt)\u001B[39;00m\n\u001B[1;32m    311\u001B[0m     \u001B[38;5;28;01mif\u001B[39;00m timeout \u001B[38;5;129;01mis\u001B[39;00m \u001B[38;5;28;01mNone\u001B[39;00m:\n\u001B[0;32m--> 312\u001B[0m         \u001B[43mwaiter\u001B[49m\u001B[38;5;241;43m.\u001B[39;49m\u001B[43macquire\u001B[49m\u001B[43m(\u001B[49m\u001B[43m)\u001B[49m\n\u001B[1;32m    313\u001B[0m         gotit \u001B[38;5;241m=\u001B[39m \u001B[38;5;28;01mTrue\u001B[39;00m\n\u001B[1;32m    314\u001B[0m     \u001B[38;5;28;01melse\u001B[39;00m:\n",
      "\u001B[0;31mKeyboardInterrupt\u001B[0m: "
     ]
    },
    {
     "name": "stderr",
     "output_type": "stream",
     "text": [
      "23/06/29 08:45:37 WARN TaskSetManager: Stage 16386 contains a task of very large size (2846 KiB). The maximum recommended task size is 1000 KiB.\n",
      "23/06/29 08:45:37 WARN TaskSetManager: Stage 16388 contains a task of very large size (2846 KiB). The maximum recommended task size is 1000 KiB.\n",
      "23/06/29 08:45:37 WARN TaskSetManager: Stage 16390 contains a task of very large size (2846 KiB). The maximum recommended task size is 1000 KiB.\n",
      "23/06/29 08:45:37 WARN TaskSetManager: Stage 16391 contains a task of very large size (2855 KiB). The maximum recommended task size is 1000 KiB.\n",
      "23/06/29 08:45:37 WARN TaskSetManager: Stage 16392 contains a task of very large size (2846 KiB). The maximum recommended task size is 1000 KiB.\n",
      "23/06/29 08:45:37 WARN TaskSetManager: Stage 16393 contains a task of very large size (2855 KiB). The maximum recommended task size is 1000 KiB.\n",
      "23/06/29 08:45:37 WARN TaskSetManager: Stage 16394 contains a task of very large size (2846 KiB). The maximum recommended task size is 1000 KiB.\n",
      "23/06/29 08:45:37 WARN TaskSetManager: Stage 16395 contains a task of very large size (2855 KiB). The maximum recommended task size is 1000 KiB.\n",
      "23/06/29 08:45:37 WARN TaskSetManager: Stage 16396 contains a task of very large size (2846 KiB). The maximum recommended task size is 1000 KiB.\n",
      "23/06/29 08:45:37 WARN TaskSetManager: Stage 16398 contains a task of very large size (2855 KiB). The maximum recommended task size is 1000 KiB.\n",
      "23/06/29 08:45:37 WARN TaskSetManager: Stage 16400 contains a task of very large size (2855 KiB). The maximum recommended task size is 1000 KiB.\n",
      "23/06/29 08:45:37 WARN TaskSetManager: Stage 16402 contains a task of very large size (2846 KiB). The maximum recommended task size is 1000 KiB.\n",
      "23/06/29 08:45:37 WARN TaskSetManager: Stage 16404 contains a task of very large size (2855 KiB). The maximum recommended task size is 1000 KiB.\n",
      "23/06/29 08:45:37 WARN TaskSetManager: Stage 16406 contains a task of very large size (2855 KiB). The maximum recommended task size is 1000 KiB.\n",
      "23/06/29 08:45:37 WARN TaskSetManager: Stage 16408 contains a task of very large size (2846 KiB). The maximum recommended task size is 1000 KiB.\n",
      "23/06/29 08:45:37 WARN TaskSetManager: Stage 16410 contains a task of very large size (2846 KiB). The maximum recommended task size is 1000 KiB.\n",
      "23/06/29 08:45:37 WARN TaskSetManager: Stage 16412 contains a task of very large size (2846 KiB). The maximum recommended task size is 1000 KiB.\n",
      "23/06/29 08:45:38 WARN TaskSetManager: Stage 16414 contains a task of very large size (2846 KiB). The maximum recommended task size is 1000 KiB.\n",
      "23/06/29 08:45:38 WARN TaskSetManager: Stage 16416 contains a task of very large size (2846 KiB). The maximum recommended task size is 1000 KiB.\n",
      "23/06/29 08:45:38 WARN TaskSetManager: Stage 16418 contains a task of very large size (2855 KiB). The maximum recommended task size is 1000 KiB.\n",
      "23/06/29 08:45:39 WARN TaskSetManager: Stage 16420 contains a task of very large size (2846 KiB). The maximum recommended task size is 1000 KiB.\n",
      "23/06/29 08:45:39 WARN TaskSetManager: Stage 16421 contains a task of very large size (2846 KiB). The maximum recommended task size is 1000 KiB.\n",
      "23/06/29 08:45:39 WARN TaskSetManager: Stage 16422 contains a task of very large size (2846 KiB). The maximum recommended task size is 1000 KiB.\n",
      "23/06/29 08:45:39 WARN TaskSetManager: Stage 16423 contains a task of very large size (2846 KiB). The maximum recommended task size is 1000 KiB.\n",
      "23/06/29 08:45:39 WARN TaskSetManager: Stage 16424 contains a task of very large size (2855 KiB). The maximum recommended task size is 1000 KiB.\n",
      "23/06/29 08:45:39 WARN TaskSetManager: Stage 16425 contains a task of very large size (2855 KiB). The maximum recommended task size is 1000 KiB.\n",
      "23/06/29 08:45:39 WARN TaskSetManager: Stage 16426 contains a task of very large size (2855 KiB). The maximum recommended task size is 1000 KiB.\n",
      "23/06/29 08:45:39 WARN TaskSetManager: Stage 16428 contains a task of very large size (2855 KiB). The maximum recommended task size is 1000 KiB.\n",
      "23/06/29 08:45:39 WARN TaskSetManager: Stage 16430 contains a task of very large size (2855 KiB). The maximum recommended task size is 1000 KiB.\n",
      "23/06/29 08:45:39 WARN TaskSetManager: Stage 16432 contains a task of very large size (2846 KiB). The maximum recommended task size is 1000 KiB.\n",
      "23/06/29 08:45:39 WARN TaskSetManager: Stage 16434 contains a task of very large size (2855 KiB). The maximum recommended task size is 1000 KiB.\n",
      "23/06/29 08:45:39 WARN TaskSetManager: Stage 16436 contains a task of very large size (2855 KiB). The maximum recommended task size is 1000 KiB.\n",
      "23/06/29 08:45:39 WARN TaskSetManager: Stage 16438 contains a task of very large size (2846 KiB). The maximum recommended task size is 1000 KiB.\n",
      "23/06/29 08:45:39 WARN TaskSetManager: Stage 16440 contains a task of very large size (2846 KiB). The maximum recommended task size is 1000 KiB.\n",
      "23/06/29 08:45:39 WARN TaskSetManager: Stage 16442 contains a task of very large size (2846 KiB). The maximum recommended task size is 1000 KiB.\n",
      "23/06/29 08:45:39 WARN TaskSetManager: Stage 16444 contains a task of very large size (2855 KiB). The maximum recommended task size is 1000 KiB.\n",
      "23/06/29 08:45:39 WARN TaskSetManager: Stage 16446 contains a task of very large size (2855 KiB). The maximum recommended task size is 1000 KiB.\n",
      "23/06/29 08:45:39 WARN TaskSetManager: Stage 16448 contains a task of very large size (2846 KiB). The maximum recommended task size is 1000 KiB.\n",
      "23/06/29 08:45:39 WARN TaskSetManager: Stage 16450 contains a task of very large size (2846 KiB). The maximum recommended task size is 1000 KiB.\n",
      "23/06/29 08:45:40 WARN TaskSetManager: Stage 16452 contains a task of very large size (2855 KiB). The maximum recommended task size is 1000 KiB.\n",
      "23/06/29 08:45:40 WARN TaskSetManager: Stage 16454 contains a task of very large size (2855 KiB). The maximum recommended task size is 1000 KiB.\n",
      "23/06/29 08:45:40 WARN TaskSetManager: Stage 16456 contains a task of very large size (2855 KiB). The maximum recommended task size is 1000 KiB.\n",
      "23/06/29 08:45:40 WARN TaskSetManager: Stage 16458 contains a task of very large size (2855 KiB). The maximum recommended task size is 1000 KiB.\n",
      "23/06/29 08:45:40 WARN TaskSetManager: Stage 16460 contains a task of very large size (2846 KiB). The maximum recommended task size is 1000 KiB.\n",
      "23/06/29 08:45:40 WARN TaskSetManager: Stage 16462 contains a task of very large size (2855 KiB). The maximum recommended task size is 1000 KiB.\n",
      "23/06/29 08:45:40 WARN TaskSetManager: Stage 16464 contains a task of very large size (2846 KiB). The maximum recommended task size is 1000 KiB.\n",
      "23/06/29 08:45:40 WARN TaskSetManager: Stage 16466 contains a task of very large size (2846 KiB). The maximum recommended task size is 1000 KiB.\n",
      "23/06/29 08:45:40 WARN TaskSetManager: Stage 16468 contains a task of very large size (2855 KiB). The maximum recommended task size is 1000 KiB.\n",
      "23/06/29 08:45:41 WARN TaskSetManager: Stage 16470 contains a task of very large size (2855 KiB). The maximum recommended task size is 1000 KiB.\n",
      "23/06/29 08:45:42 WARN TaskSetManager: Stage 16472 contains a task of very large size (2855 KiB). The maximum recommended task size is 1000 KiB.\n",
      "23/06/29 08:45:42 WARN TaskSetManager: Stage 16474 contains a task of very large size (2855 KiB). The maximum recommended task size is 1000 KiB.\n",
      "23/06/29 08:45:42 WARN TaskSetManager: Stage 16475 contains a task of very large size (2846 KiB). The maximum recommended task size is 1000 KiB.\n",
      "23/06/29 08:45:42 WARN TaskSetManager: Stage 16476 contains a task of very large size (2846 KiB). The maximum recommended task size is 1000 KiB.\n",
      "23/06/29 08:45:42 WARN TaskSetManager: Stage 16477 contains a task of very large size (2846 KiB). The maximum recommended task size is 1000 KiB.\n",
      "23/06/29 08:45:42 WARN TaskSetManager: Stage 16478 contains a task of very large size (2846 KiB). The maximum recommended task size is 1000 KiB.\n",
      "23/06/29 08:45:42 WARN TaskSetManager: Stage 16479 contains a task of very large size (2855 KiB). The maximum recommended task size is 1000 KiB.\n",
      "23/06/29 08:45:42 WARN TaskSetManager: Stage 16480 contains a task of very large size (2855 KiB). The maximum recommended task size is 1000 KiB.\n",
      "23/06/29 08:45:42 WARN TaskSetManager: Stage 16482 contains a task of very large size (2855 KiB). The maximum recommended task size is 1000 KiB.\n",
      "23/06/29 08:45:42 WARN TaskSetManager: Stage 16484 contains a task of very large size (2846 KiB). The maximum recommended task size is 1000 KiB.\n",
      "23/06/29 08:45:42 WARN TaskSetManager: Stage 16486 contains a task of very large size (2855 KiB). The maximum recommended task size is 1000 KiB.\n",
      "23/06/29 08:45:42 WARN TaskSetManager: Stage 16488 contains a task of very large size (2846 KiB). The maximum recommended task size is 1000 KiB.\n",
      "23/06/29 08:45:42 WARN TaskSetManager: Stage 16490 contains a task of very large size (2855 KiB). The maximum recommended task size is 1000 KiB.\n",
      "23/06/29 08:45:42 WARN TaskSetManager: Stage 16492 contains a task of very large size (2855 KiB). The maximum recommended task size is 1000 KiB.\n",
      "23/06/29 08:45:42 WARN TaskSetManager: Stage 16494 contains a task of very large size (2855 KiB). The maximum recommended task size is 1000 KiB.\n",
      "23/06/29 08:45:43 WARN TaskSetManager: Stage 16496 contains a task of very large size (2855 KiB). The maximum recommended task size is 1000 KiB.\n",
      "23/06/29 08:45:43 WARN TaskSetManager: Stage 16498 contains a task of very large size (2855 KiB). The maximum recommended task size is 1000 KiB.\n",
      "23/06/29 08:45:43 WARN TaskSetManager: Stage 16500 contains a task of very large size (2846 KiB). The maximum recommended task size is 1000 KiB.\n",
      "23/06/29 08:45:43 WARN TaskSetManager: Stage 16502 contains a task of very large size (2846 KiB). The maximum recommended task size is 1000 KiB.\n",
      "23/06/29 08:45:43 WARN TaskSetManager: Stage 16504 contains a task of very large size (2846 KiB). The maximum recommended task size is 1000 KiB.\n",
      "23/06/29 08:45:43 WARN TaskSetManager: Stage 16506 contains a task of very large size (2846 KiB). The maximum recommended task size is 1000 KiB.\n",
      "23/06/29 08:45:43 WARN TaskSetManager: Stage 16508 contains a task of very large size (2846 KiB). The maximum recommended task size is 1000 KiB.\n",
      "23/06/29 08:45:43 WARN TaskSetManager: Stage 16510 contains a task of very large size (2855 KiB). The maximum recommended task size is 1000 KiB.\n",
      "23/06/29 08:45:43 WARN TaskSetManager: Stage 16512 contains a task of very large size (2846 KiB). The maximum recommended task size is 1000 KiB.\n",
      "23/06/29 08:45:43 WARN TaskSetManager: Stage 16514 contains a task of very large size (2846 KiB). The maximum recommended task size is 1000 KiB.\n",
      "23/06/29 08:45:43 WARN TaskSetManager: Stage 16516 contains a task of very large size (2846 KiB). The maximum recommended task size is 1000 KiB.\n",
      "23/06/29 08:45:43 WARN TaskSetManager: Stage 16518 contains a task of very large size (2855 KiB). The maximum recommended task size is 1000 KiB.\n",
      "23/06/29 08:45:43 WARN TaskSetManager: Stage 16520 contains a task of very large size (2855 KiB). The maximum recommended task size is 1000 KiB.\n",
      "23/06/29 08:45:45 WARN TaskSetManager: Stage 16522 contains a task of very large size (2855 KiB). The maximum recommended task size is 1000 KiB.\n",
      "23/06/29 08:45:45 WARN TaskSetManager: Stage 16524 contains a task of very large size (2846 KiB). The maximum recommended task size is 1000 KiB.\n",
      "23/06/29 08:45:45 WARN TaskSetManager: Stage 16526 contains a task of very large size (2855 KiB). The maximum recommended task size is 1000 KiB.\n",
      "23/06/29 08:45:45 WARN TaskSetManager: Stage 16527 contains a task of very large size (2855 KiB). The maximum recommended task size is 1000 KiB.\n",
      "23/06/29 08:45:45 WARN TaskSetManager: Stage 16528 contains a task of very large size (2855 KiB). The maximum recommended task size is 1000 KiB.\n",
      "23/06/29 08:45:45 WARN TaskSetManager: Stage 16529 contains a task of very large size (2855 KiB). The maximum recommended task size is 1000 KiB.\n",
      "23/06/29 08:45:45 WARN TaskSetManager: Stage 16530 contains a task of very large size (2846 KiB). The maximum recommended task size is 1000 KiB.\n",
      "23/06/29 08:45:45 WARN TaskSetManager: Stage 16531 contains a task of very large size (2855 KiB). The maximum recommended task size is 1000 KiB.\n",
      "23/06/29 08:45:45 WARN TaskSetManager: Stage 16532 contains a task of very large size (2855 KiB). The maximum recommended task size is 1000 KiB.\n",
      "23/06/29 08:45:45 WARN TaskSetManager: Stage 16534 contains a task of very large size (2846 KiB). The maximum recommended task size is 1000 KiB.\n",
      "23/06/29 08:45:45 WARN TaskSetManager: Stage 16536 contains a task of very large size (2846 KiB). The maximum recommended task size is 1000 KiB.\n",
      "23/06/29 08:45:45 WARN TaskSetManager: Stage 16538 contains a task of very large size (2846 KiB). The maximum recommended task size is 1000 KiB.\n",
      "23/06/29 08:45:45 WARN TaskSetManager: Stage 16540 contains a task of very large size (2846 KiB). The maximum recommended task size is 1000 KiB.\n",
      "23/06/29 08:45:45 WARN TaskSetManager: Stage 16542 contains a task of very large size (2855 KiB). The maximum recommended task size is 1000 KiB.\n",
      "23/06/29 08:45:45 WARN TaskSetManager: Stage 16544 contains a task of very large size (2846 KiB). The maximum recommended task size is 1000 KiB.\n",
      "23/06/29 08:45:45 WARN TaskSetManager: Stage 16546 contains a task of very large size (2855 KiB). The maximum recommended task size is 1000 KiB.\n",
      "23/06/29 08:45:45 WARN TaskSetManager: Stage 16548 contains a task of very large size (2846 KiB). The maximum recommended task size is 1000 KiB.\n",
      "23/06/29 08:45:45 WARN TaskSetManager: Stage 16550 contains a task of very large size (2846 KiB). The maximum recommended task size is 1000 KiB.\n",
      "23/06/29 08:45:46 WARN TaskSetManager: Stage 16552 contains a task of very large size (2846 KiB). The maximum recommended task size is 1000 KiB.\n",
      "23/06/29 08:45:46 WARN TaskSetManager: Stage 16554 contains a task of very large size (2855 KiB). The maximum recommended task size is 1000 KiB.\n",
      "23/06/29 08:45:46 WARN TaskSetManager: Stage 16556 contains a task of very large size (2855 KiB). The maximum recommended task size is 1000 KiB.\n",
      "23/06/29 08:45:46 WARN TaskSetManager: Stage 16558 contains a task of very large size (2846 KiB). The maximum recommended task size is 1000 KiB.\n",
      "23/06/29 08:45:46 WARN TaskSetManager: Stage 16560 contains a task of very large size (2846 KiB). The maximum recommended task size is 1000 KiB.\n",
      "23/06/29 08:45:46 WARN TaskSetManager: Stage 16562 contains a task of very large size (2846 KiB). The maximum recommended task size is 1000 KiB.\n",
      "23/06/29 08:45:46 WARN TaskSetManager: Stage 16564 contains a task of very large size (2855 KiB). The maximum recommended task size is 1000 KiB.\n",
      "23/06/29 08:45:46 WARN TaskSetManager: Stage 16566 contains a task of very large size (2846 KiB). The maximum recommended task size is 1000 KiB.\n",
      "23/06/29 08:45:46 WARN TaskSetManager: Stage 16568 contains a task of very large size (2855 KiB). The maximum recommended task size is 1000 KiB.\n",
      "23/06/29 08:45:46 WARN TaskSetManager: Stage 16570 contains a task of very large size (2846 KiB). The maximum recommended task size is 1000 KiB.\n",
      "23/06/29 08:45:46 WARN TaskSetManager: Stage 16572 contains a task of very large size (2846 KiB). The maximum recommended task size is 1000 KiB.\n",
      "23/06/29 08:45:47 WARN TaskSetManager: Stage 16574 contains a task of very large size (2846 KiB). The maximum recommended task size is 1000 KiB.\n",
      "23/06/29 08:45:48 WARN TaskSetManager: Stage 16576 contains a task of very large size (2855 KiB). The maximum recommended task size is 1000 KiB.\n",
      "23/06/29 08:45:48 WARN TaskSetManager: Stage 16578 contains a task of very large size (2855 KiB). The maximum recommended task size is 1000 KiB.\n",
      "23/06/29 08:45:48 WARN TaskSetManager: Stage 16580 contains a task of very large size (2855 KiB). The maximum recommended task size is 1000 KiB.\n",
      "23/06/29 08:45:48 WARN TaskSetManager: Stage 16581 contains a task of very large size (2846 KiB). The maximum recommended task size is 1000 KiB.\n",
      "23/06/29 08:45:48 WARN TaskSetManager: Stage 16582 contains a task of very large size (2855 KiB). The maximum recommended task size is 1000 KiB.\n",
      "23/06/29 08:45:48 WARN TaskSetManager: Stage 16583 contains a task of very large size (2846 KiB). The maximum recommended task size is 1000 KiB.\n",
      "23/06/29 08:45:48 WARN TaskSetManager: Stage 16584 contains a task of very large size (2855 KiB). The maximum recommended task size is 1000 KiB.\n",
      "23/06/29 08:45:48 WARN TaskSetManager: Stage 16585 contains a task of very large size (2855 KiB). The maximum recommended task size is 1000 KiB.\n",
      "23/06/29 08:45:48 WARN TaskSetManager: Stage 16586 contains a task of very large size (2846 KiB). The maximum recommended task size is 1000 KiB.\n",
      "23/06/29 08:45:48 WARN TaskSetManager: Stage 16588 contains a task of very large size (2855 KiB). The maximum recommended task size is 1000 KiB.\n",
      "23/06/29 08:45:48 WARN TaskSetManager: Stage 16590 contains a task of very large size (2855 KiB). The maximum recommended task size is 1000 KiB.\n",
      "23/06/29 08:45:48 WARN TaskSetManager: Stage 16592 contains a task of very large size (2855 KiB). The maximum recommended task size is 1000 KiB.\n",
      "23/06/29 08:45:48 WARN TaskSetManager: Stage 16594 contains a task of very large size (2846 KiB). The maximum recommended task size is 1000 KiB.\n",
      "23/06/29 08:45:48 WARN TaskSetManager: Stage 16596 contains a task of very large size (2855 KiB). The maximum recommended task size is 1000 KiB.\n",
      "23/06/29 08:45:48 WARN TaskSetManager: Stage 16598 contains a task of very large size (2846 KiB). The maximum recommended task size is 1000 KiB.\n",
      "23/06/29 08:45:48 WARN TaskSetManager: Stage 16600 contains a task of very large size (2855 KiB). The maximum recommended task size is 1000 KiB.\n",
      "23/06/29 08:45:48 WARN TaskSetManager: Stage 16602 contains a task of very large size (2846 KiB). The maximum recommended task size is 1000 KiB.\n",
      "23/06/29 08:45:48 WARN TaskSetManager: Stage 16604 contains a task of very large size (2846 KiB). The maximum recommended task size is 1000 KiB.\n",
      "23/06/29 08:45:48 WARN TaskSetManager: Stage 16606 contains a task of very large size (2846 KiB). The maximum recommended task size is 1000 KiB.\n",
      "23/06/29 08:45:48 WARN TaskSetManager: Stage 16608 contains a task of very large size (2855 KiB). The maximum recommended task size is 1000 KiB.\n",
      "23/06/29 08:45:48 WARN TaskSetManager: Stage 16610 contains a task of very large size (2855 KiB). The maximum recommended task size is 1000 KiB.\n",
      "23/06/29 08:45:49 WARN TaskSetManager: Stage 16612 contains a task of very large size (2846 KiB). The maximum recommended task size is 1000 KiB.\n",
      "23/06/29 08:45:49 WARN TaskSetManager: Stage 16614 contains a task of very large size (2846 KiB). The maximum recommended task size is 1000 KiB.\n",
      "23/06/29 08:45:49 WARN TaskSetManager: Stage 16616 contains a task of very large size (2855 KiB). The maximum recommended task size is 1000 KiB.\n",
      "23/06/29 08:45:49 WARN TaskSetManager: Stage 16618 contains a task of very large size (2855 KiB). The maximum recommended task size is 1000 KiB.\n",
      "23/06/29 08:45:49 WARN TaskSetManager: Stage 16620 contains a task of very large size (2846 KiB). The maximum recommended task size is 1000 KiB.\n",
      "23/06/29 08:45:49 WARN TaskSetManager: Stage 16622 contains a task of very large size (2855 KiB). The maximum recommended task size is 1000 KiB.\n",
      "23/06/29 08:45:49 WARN TaskSetManager: Stage 16624 contains a task of very large size (2846 KiB). The maximum recommended task size is 1000 KiB.\n",
      "23/06/29 08:45:49 WARN TaskSetManager: Stage 16626 contains a task of very large size (2846 KiB). The maximum recommended task size is 1000 KiB.\n",
      "23/06/29 08:45:49 WARN TaskSetManager: Stage 16628 contains a task of very large size (2846 KiB). The maximum recommended task size is 1000 KiB.\n",
      "23/06/29 08:45:50 WARN TaskSetManager: Stage 16630 contains a task of very large size (2846 KiB). The maximum recommended task size is 1000 KiB.\n",
      "23/06/29 08:45:50 WARN TaskSetManager: Stage 16632 contains a task of very large size (2846 KiB). The maximum recommended task size is 1000 KiB.\n",
      "23/06/29 08:45:50 WARN TaskSetManager: Stage 16634 contains a task of very large size (2846 KiB). The maximum recommended task size is 1000 KiB.\n",
      "23/06/29 08:45:50 WARN TaskSetManager: Stage 16635 contains a task of very large size (2846 KiB). The maximum recommended task size is 1000 KiB.\n",
      "23/06/29 08:45:50 WARN TaskSetManager: Stage 16636 contains a task of very large size (2846 KiB). The maximum recommended task size is 1000 KiB.\n",
      "23/06/29 08:45:50 WARN TaskSetManager: Stage 16637 contains a task of very large size (2855 KiB). The maximum recommended task size is 1000 KiB.\n",
      "23/06/29 08:45:50 WARN TaskSetManager: Stage 16638 contains a task of very large size (2846 KiB). The maximum recommended task size is 1000 KiB.\n",
      "23/06/29 08:45:50 WARN TaskSetManager: Stage 16639 contains a task of very large size (2855 KiB). The maximum recommended task size is 1000 KiB.\n",
      "23/06/29 08:45:50 WARN TaskSetManager: Stage 16640 contains a task of very large size (2855 KiB). The maximum recommended task size is 1000 KiB.\n",
      "23/06/29 08:45:50 WARN TaskSetManager: Stage 16642 contains a task of very large size (2855 KiB). The maximum recommended task size is 1000 KiB.\n",
      "23/06/29 08:45:50 WARN TaskSetManager: Stage 16644 contains a task of very large size (2846 KiB). The maximum recommended task size is 1000 KiB.\n",
      "23/06/29 08:45:50 WARN TaskSetManager: Stage 16646 contains a task of very large size (2855 KiB). The maximum recommended task size is 1000 KiB.\n",
      "23/06/29 08:45:51 WARN TaskSetManager: Stage 16648 contains a task of very large size (2846 KiB). The maximum recommended task size is 1000 KiB.\n",
      "23/06/29 08:45:51 WARN TaskSetManager: Stage 16650 contains a task of very large size (2846 KiB). The maximum recommended task size is 1000 KiB.\n",
      "23/06/29 08:45:51 WARN TaskSetManager: Stage 16652 contains a task of very large size (2846 KiB). The maximum recommended task size is 1000 KiB.\n",
      "23/06/29 08:45:51 WARN TaskSetManager: Stage 16654 contains a task of very large size (2855 KiB). The maximum recommended task size is 1000 KiB.\n",
      "23/06/29 08:45:51 WARN TaskSetManager: Stage 16656 contains a task of very large size (2846 KiB). The maximum recommended task size is 1000 KiB.\n",
      "23/06/29 08:45:51 WARN TaskSetManager: Stage 16658 contains a task of very large size (2855 KiB). The maximum recommended task size is 1000 KiB.\n",
      "23/06/29 08:45:51 WARN TaskSetManager: Stage 16660 contains a task of very large size (2846 KiB). The maximum recommended task size is 1000 KiB.\n",
      "23/06/29 08:45:51 WARN TaskSetManager: Stage 16662 contains a task of very large size (2855 KiB). The maximum recommended task size is 1000 KiB.\n",
      "23/06/29 08:45:51 WARN TaskSetManager: Stage 16664 contains a task of very large size (2855 KiB). The maximum recommended task size is 1000 KiB.\n",
      "23/06/29 08:45:51 WARN TaskSetManager: Stage 16666 contains a task of very large size (2846 KiB). The maximum recommended task size is 1000 KiB.\n",
      "23/06/29 08:45:51 WARN TaskSetManager: Stage 16668 contains a task of very large size (2846 KiB). The maximum recommended task size is 1000 KiB.\n",
      "23/06/29 08:45:51 WARN TaskSetManager: Stage 16670 contains a task of very large size (2855 KiB). The maximum recommended task size is 1000 KiB.\n",
      "23/06/29 08:45:51 WARN TaskSetManager: Stage 16672 contains a task of very large size (2846 KiB). The maximum recommended task size is 1000 KiB.\n",
      "23/06/29 08:45:52 WARN TaskSetManager: Stage 16674 contains a task of very large size (2846 KiB). The maximum recommended task size is 1000 KiB.\n",
      "23/06/29 08:45:52 WARN TaskSetManager: Stage 16676 contains a task of very large size (2855 KiB). The maximum recommended task size is 1000 KiB.\n",
      "23/06/29 08:45:52 WARN TaskSetManager: Stage 16678 contains a task of very large size (2846 KiB). The maximum recommended task size is 1000 KiB.\n",
      "23/06/29 08:45:52 WARN TaskSetManager: Stage 16680 contains a task of very large size (2855 KiB). The maximum recommended task size is 1000 KiB.\n",
      "23/06/29 08:45:52 WARN TaskSetManager: Stage 16682 contains a task of very large size (2855 KiB). The maximum recommended task size is 1000 KiB.\n",
      "23/06/29 08:45:53 WARN TaskSetManager: Stage 16684 contains a task of very large size (2855 KiB). The maximum recommended task size is 1000 KiB.\n",
      "23/06/29 08:45:53 WARN TaskSetManager: Stage 16686 contains a task of very large size (2855 KiB). The maximum recommended task size is 1000 KiB.\n",
      "23/06/29 08:45:53 WARN TaskSetManager: Stage 16688 contains a task of very large size (2846 KiB). The maximum recommended task size is 1000 KiB.\n",
      "23/06/29 08:45:53 WARN TaskSetManager: Stage 16689 contains a task of very large size (2855 KiB). The maximum recommended task size is 1000 KiB.\n",
      "23/06/29 08:45:53 WARN TaskSetManager: Stage 16690 contains a task of very large size (2855 KiB). The maximum recommended task size is 1000 KiB.\n",
      "23/06/29 08:45:53 WARN TaskSetManager: Stage 16691 contains a task of very large size (2846 KiB). The maximum recommended task size is 1000 KiB.\n",
      "23/06/29 08:45:53 WARN TaskSetManager: Stage 16692 contains a task of very large size (2846 KiB). The maximum recommended task size is 1000 KiB.\n",
      "23/06/29 08:45:53 WARN TaskSetManager: Stage 16693 contains a task of very large size (2855 KiB). The maximum recommended task size is 1000 KiB.\n",
      "23/06/29 08:45:53 WARN TaskSetManager: Stage 16694 contains a task of very large size (2846 KiB). The maximum recommended task size is 1000 KiB.\n",
      "23/06/29 08:45:53 WARN TaskSetManager: Stage 16696 contains a task of very large size (2846 KiB). The maximum recommended task size is 1000 KiB.\n",
      "23/06/29 08:45:53 WARN TaskSetManager: Stage 16698 contains a task of very large size (2855 KiB). The maximum recommended task size is 1000 KiB.\n",
      "23/06/29 08:45:53 WARN TaskSetManager: Stage 16700 contains a task of very large size (2855 KiB). The maximum recommended task size is 1000 KiB.\n",
      "23/06/29 08:45:54 WARN TaskSetManager: Stage 16702 contains a task of very large size (2855 KiB). The maximum recommended task size is 1000 KiB.\n",
      "23/06/29 08:45:54 WARN TaskSetManager: Stage 16704 contains a task of very large size (2855 KiB). The maximum recommended task size is 1000 KiB.\n",
      "23/06/29 08:45:54 WARN TaskSetManager: Stage 16706 contains a task of very large size (2846 KiB). The maximum recommended task size is 1000 KiB.\n",
      "23/06/29 08:45:54 WARN TaskSetManager: Stage 16708 contains a task of very large size (2855 KiB). The maximum recommended task size is 1000 KiB.\n",
      "23/06/29 08:45:54 WARN TaskSetManager: Stage 16710 contains a task of very large size (2855 KiB). The maximum recommended task size is 1000 KiB.\n",
      "23/06/29 08:45:54 WARN TaskSetManager: Stage 16712 contains a task of very large size (2846 KiB). The maximum recommended task size is 1000 KiB.\n",
      "23/06/29 08:45:54 WARN TaskSetManager: Stage 16714 contains a task of very large size (2846 KiB). The maximum recommended task size is 1000 KiB.\n",
      "23/06/29 08:45:54 WARN TaskSetManager: Stage 16716 contains a task of very large size (2846 KiB). The maximum recommended task size is 1000 KiB.\n",
      "23/06/29 08:45:54 WARN TaskSetManager: Stage 16718 contains a task of very large size (2846 KiB). The maximum recommended task size is 1000 KiB.\n",
      "23/06/29 08:45:54 WARN TaskSetManager: Stage 16720 contains a task of very large size (2855 KiB). The maximum recommended task size is 1000 KiB.\n",
      "23/06/29 08:45:54 WARN TaskSetManager: Stage 16722 contains a task of very large size (2846 KiB). The maximum recommended task size is 1000 KiB.\n",
      "23/06/29 08:45:55 WARN TaskSetManager: Stage 16724 contains a task of very large size (2855 KiB). The maximum recommended task size is 1000 KiB.\n",
      "23/06/29 08:45:55 WARN TaskSetManager: Stage 16726 contains a task of very large size (2855 KiB). The maximum recommended task size is 1000 KiB.\n",
      "23/06/29 08:45:55 WARN TaskSetManager: Stage 16728 contains a task of very large size (2855 KiB). The maximum recommended task size is 1000 KiB.\n",
      "23/06/29 08:45:55 WARN TaskSetManager: Stage 16730 contains a task of very large size (2855 KiB). The maximum recommended task size is 1000 KiB.\n",
      "23/06/29 08:45:55 WARN TaskSetManager: Stage 16732 contains a task of very large size (2846 KiB). The maximum recommended task size is 1000 KiB.\n",
      "23/06/29 08:45:55 WARN TaskSetManager: Stage 16734 contains a task of very large size (2846 KiB). The maximum recommended task size is 1000 KiB.\n",
      "23/06/29 08:45:55 WARN TaskSetManager: Stage 16736 contains a task of very large size (2846 KiB). The maximum recommended task size is 1000 KiB.\n",
      "23/06/29 08:45:56 WARN TaskSetManager: Stage 16738 contains a task of very large size (2846 KiB). The maximum recommended task size is 1000 KiB.\n",
      "23/06/29 08:45:56 WARN TaskSetManager: Stage 16740 contains a task of very large size (2846 KiB). The maximum recommended task size is 1000 KiB.\n",
      "23/06/29 08:45:56 WARN TaskSetManager: Stage 16742 contains a task of very large size (2855 KiB). The maximum recommended task size is 1000 KiB.\n",
      "23/06/29 08:45:56 WARN TaskSetManager: Stage 16743 contains a task of very large size (2846 KiB). The maximum recommended task size is 1000 KiB.\n",
      "23/06/29 08:45:56 WARN TaskSetManager: Stage 16744 contains a task of very large size (2846 KiB). The maximum recommended task size is 1000 KiB.\n",
      "23/06/29 08:45:56 WARN TaskSetManager: Stage 16745 contains a task of very large size (2846 KiB). The maximum recommended task size is 1000 KiB.\n",
      "23/06/29 08:45:56 WARN TaskSetManager: Stage 16746 contains a task of very large size (2855 KiB). The maximum recommended task size is 1000 KiB.\n",
      "23/06/29 08:45:56 WARN TaskSetManager: Stage 16747 contains a task of very large size (2846 KiB). The maximum recommended task size is 1000 KiB.\n",
      "23/06/29 08:45:56 WARN TaskSetManager: Stage 16748 contains a task of very large size (2846 KiB). The maximum recommended task size is 1000 KiB.\n",
      "23/06/29 08:45:56 WARN TaskSetManager: Stage 16750 contains a task of very large size (2846 KiB). The maximum recommended task size is 1000 KiB.\n",
      "23/06/29 08:45:57 WARN TaskSetManager: Stage 16752 contains a task of very large size (2855 KiB). The maximum recommended task size is 1000 KiB.\n",
      "23/06/29 08:45:57 WARN TaskSetManager: Stage 16754 contains a task of very large size (2855 KiB). The maximum recommended task size is 1000 KiB.\n",
      "23/06/29 08:45:57 WARN TaskSetManager: Stage 16756 contains a task of very large size (2855 KiB). The maximum recommended task size is 1000 KiB.\n",
      "23/06/29 08:45:57 WARN TaskSetManager: Stage 16758 contains a task of very large size (2855 KiB). The maximum recommended task size is 1000 KiB.\n",
      "23/06/29 08:45:57 WARN TaskSetManager: Stage 16760 contains a task of very large size (2855 KiB). The maximum recommended task size is 1000 KiB.\n",
      "23/06/29 08:45:57 WARN TaskSetManager: Stage 16762 contains a task of very large size (2855 KiB). The maximum recommended task size is 1000 KiB.\n",
      "23/06/29 08:45:57 WARN TaskSetManager: Stage 16764 contains a task of very large size (2846 KiB). The maximum recommended task size is 1000 KiB.\n",
      "23/06/29 08:45:57 WARN TaskSetManager: Stage 16766 contains a task of very large size (2855 KiB). The maximum recommended task size is 1000 KiB.\n",
      "23/06/29 08:45:57 WARN TaskSetManager: Stage 16768 contains a task of very large size (2855 KiB). The maximum recommended task size is 1000 KiB.\n",
      "23/06/29 08:45:57 WARN TaskSetManager: Stage 16770 contains a task of very large size (2846 KiB). The maximum recommended task size is 1000 KiB.\n",
      "23/06/29 08:45:57 WARN TaskSetManager: Stage 16772 contains a task of very large size (2855 KiB). The maximum recommended task size is 1000 KiB.\n",
      "23/06/29 08:45:57 WARN TaskSetManager: Stage 16774 contains a task of very large size (2846 KiB). The maximum recommended task size is 1000 KiB.\n",
      "23/06/29 08:45:57 WARN TaskSetManager: Stage 16776 contains a task of very large size (2855 KiB). The maximum recommended task size is 1000 KiB.\n",
      "23/06/29 08:45:57 WARN TaskSetManager: Stage 16778 contains a task of very large size (2855 KiB). The maximum recommended task size is 1000 KiB.\n",
      "23/06/29 08:45:57 WARN TaskSetManager: Stage 16780 contains a task of very large size (2846 KiB). The maximum recommended task size is 1000 KiB.\n",
      "23/06/29 08:45:57 WARN TaskSetManager: Stage 16782 contains a task of very large size (2846 KiB). The maximum recommended task size is 1000 KiB.\n",
      "23/06/29 08:45:57 WARN TaskSetManager: Stage 16784 contains a task of very large size (2846 KiB). The maximum recommended task size is 1000 KiB.\n",
      "23/06/29 08:45:57 WARN TaskSetManager: Stage 16786 contains a task of very large size (2846 KiB). The maximum recommended task size is 1000 KiB.\n",
      "23/06/29 08:45:57 WARN TaskSetManager: Stage 16788 contains a task of very large size (2855 KiB). The maximum recommended task size is 1000 KiB.\n",
      "23/06/29 08:45:58 WARN TaskSetManager: Stage 16790 contains a task of very large size (2855 KiB). The maximum recommended task size is 1000 KiB.\n",
      "23/06/29 08:45:58 WARN TaskSetManager: Stage 16792 contains a task of very large size (2855 KiB). The maximum recommended task size is 1000 KiB.\n",
      "23/06/29 08:45:58 WARN TaskSetManager: Stage 16794 contains a task of very large size (2855 KiB). The maximum recommended task size is 1000 KiB.\n",
      "23/06/29 08:45:58 WARN TaskSetManager: Stage 16796 contains a task of very large size (2846 KiB). The maximum recommended task size is 1000 KiB.\n",
      "23/06/29 08:45:59 WARN TaskSetManager: Stage 16797 contains a task of very large size (2855 KiB). The maximum recommended task size is 1000 KiB.\n",
      "23/06/29 08:45:59 WARN TaskSetManager: Stage 16798 contains a task of very large size (2855 KiB). The maximum recommended task size is 1000 KiB.\n",
      "23/06/29 08:45:59 WARN TaskSetManager: Stage 16799 contains a task of very large size (2846 KiB). The maximum recommended task size is 1000 KiB.\n",
      "23/06/29 08:45:59 WARN TaskSetManager: Stage 16800 contains a task of very large size (2846 KiB). The maximum recommended task size is 1000 KiB.\n",
      "23/06/29 08:45:59 WARN TaskSetManager: Stage 16801 contains a task of very large size (2855 KiB). The maximum recommended task size is 1000 KiB.\n",
      "23/06/29 08:45:59 WARN TaskSetManager: Stage 16802 contains a task of very large size (2855 KiB). The maximum recommended task size is 1000 KiB.\n",
      "23/06/29 08:45:59 WARN TaskSetManager: Stage 16804 contains a task of very large size (2855 KiB). The maximum recommended task size is 1000 KiB.\n",
      "23/06/29 08:45:59 WARN TaskSetManager: Stage 16806 contains a task of very large size (2846 KiB). The maximum recommended task size is 1000 KiB.\n",
      "23/06/29 08:45:59 WARN TaskSetManager: Stage 16808 contains a task of very large size (2846 KiB). The maximum recommended task size is 1000 KiB.\n",
      "23/06/29 08:45:59 WARN TaskSetManager: Stage 16810 contains a task of very large size (2855 KiB). The maximum recommended task size is 1000 KiB.\n",
      "23/06/29 08:45:59 WARN TaskSetManager: Stage 16812 contains a task of very large size (2855 KiB). The maximum recommended task size is 1000 KiB.\n",
      "23/06/29 08:45:59 WARN TaskSetManager: Stage 16814 contains a task of very large size (2846 KiB). The maximum recommended task size is 1000 KiB.\n",
      "23/06/29 08:45:59 WARN TaskSetManager: Stage 16816 contains a task of very large size (2855 KiB). The maximum recommended task size is 1000 KiB.\n",
      "23/06/29 08:45:59 WARN TaskSetManager: Stage 16818 contains a task of very large size (2846 KiB). The maximum recommended task size is 1000 KiB.\n",
      "23/06/29 08:45:59 WARN TaskSetManager: Stage 16820 contains a task of very large size (2846 KiB). The maximum recommended task size is 1000 KiB.\n",
      "23/06/29 08:45:59 WARN TaskSetManager: Stage 16822 contains a task of very large size (2846 KiB). The maximum recommended task size is 1000 KiB.\n",
      "23/06/29 08:45:59 WARN TaskSetManager: Stage 16824 contains a task of very large size (2855 KiB). The maximum recommended task size is 1000 KiB.\n",
      "23/06/29 08:45:59 WARN TaskSetManager: Stage 16826 contains a task of very large size (2855 KiB). The maximum recommended task size is 1000 KiB.\n",
      "23/06/29 08:46:00 WARN TaskSetManager: Stage 16828 contains a task of very large size (2846 KiB). The maximum recommended task size is 1000 KiB.\n",
      "23/06/29 08:46:00 WARN TaskSetManager: Stage 16830 contains a task of very large size (2855 KiB). The maximum recommended task size is 1000 KiB.\n",
      "23/06/29 08:46:00 WARN TaskSetManager: Stage 16832 contains a task of very large size (2855 KiB). The maximum recommended task size is 1000 KiB.\n",
      "23/06/29 08:46:00 WARN TaskSetManager: Stage 16834 contains a task of very large size (2855 KiB). The maximum recommended task size is 1000 KiB.\n",
      "23/06/29 08:46:00 WARN TaskSetManager: Stage 16836 contains a task of very large size (2846 KiB). The maximum recommended task size is 1000 KiB.\n",
      "23/06/29 08:46:00 WARN TaskSetManager: Stage 16838 contains a task of very large size (2855 KiB). The maximum recommended task size is 1000 KiB.\n",
      "23/06/29 08:46:00 WARN TaskSetManager: Stage 16840 contains a task of very large size (2855 KiB). The maximum recommended task size is 1000 KiB.\n",
      "23/06/29 08:46:00 WARN TaskSetManager: Stage 16842 contains a task of very large size (2846 KiB). The maximum recommended task size is 1000 KiB.\n",
      "23/06/29 08:46:00 WARN TaskSetManager: Stage 16844 contains a task of very large size (2846 KiB). The maximum recommended task size is 1000 KiB.\n",
      "23/06/29 08:46:01 WARN TaskSetManager: Stage 16846 contains a task of very large size (2846 KiB). The maximum recommended task size is 1000 KiB.\n",
      "23/06/29 08:46:01 WARN TaskSetManager: Stage 16848 contains a task of very large size (2855 KiB). The maximum recommended task size is 1000 KiB.\n",
      "23/06/29 08:46:02 WARN TaskSetManager: Stage 16850 contains a task of very large size (2846 KiB). The maximum recommended task size is 1000 KiB.\n",
      "23/06/29 08:46:02 WARN TaskSetManager: Stage 16851 contains a task of very large size (2846 KiB). The maximum recommended task size is 1000 KiB.\n",
      "23/06/29 08:46:02 WARN TaskSetManager: Stage 16852 contains a task of very large size (2846 KiB). The maximum recommended task size is 1000 KiB.\n",
      "23/06/29 08:46:02 WARN TaskSetManager: Stage 16853 contains a task of very large size (2846 KiB). The maximum recommended task size is 1000 KiB.\n",
      "23/06/29 08:46:02 WARN TaskSetManager: Stage 16854 contains a task of very large size (2846 KiB). The maximum recommended task size is 1000 KiB.\n",
      "23/06/29 08:46:02 WARN TaskSetManager: Stage 16855 contains a task of very large size (2846 KiB). The maximum recommended task size is 1000 KiB.\n",
      "23/06/29 08:46:02 WARN TaskSetManager: Stage 16856 contains a task of very large size (2855 KiB). The maximum recommended task size is 1000 KiB.\n",
      "23/06/29 08:46:02 WARN TaskSetManager: Stage 16858 contains a task of very large size (2846 KiB). The maximum recommended task size is 1000 KiB.\n",
      "23/06/29 08:46:02 WARN TaskSetManager: Stage 16860 contains a task of very large size (2855 KiB). The maximum recommended task size is 1000 KiB.\n",
      "23/06/29 08:46:02 WARN TaskSetManager: Stage 16862 contains a task of very large size (2846 KiB). The maximum recommended task size is 1000 KiB.\n",
      "23/06/29 08:46:02 WARN TaskSetManager: Stage 16864 contains a task of very large size (2846 KiB). The maximum recommended task size is 1000 KiB.\n",
      "23/06/29 08:46:02 WARN TaskSetManager: Stage 16866 contains a task of very large size (2855 KiB). The maximum recommended task size is 1000 KiB.\n",
      "23/06/29 08:46:02 WARN TaskSetManager: Stage 16868 contains a task of very large size (2855 KiB). The maximum recommended task size is 1000 KiB.\n",
      "23/06/29 08:46:02 WARN TaskSetManager: Stage 16870 contains a task of very large size (2846 KiB). The maximum recommended task size is 1000 KiB.\n",
      "23/06/29 08:46:03 WARN TaskSetManager: Stage 16872 contains a task of very large size (2846 KiB). The maximum recommended task size is 1000 KiB.\n",
      "23/06/29 08:46:03 WARN TaskSetManager: Stage 16874 contains a task of very large size (2855 KiB). The maximum recommended task size is 1000 KiB.\n",
      "23/06/29 08:46:03 WARN TaskSetManager: Stage 16876 contains a task of very large size (2855 KiB). The maximum recommended task size is 1000 KiB.\n",
      "23/06/29 08:46:03 WARN TaskSetManager: Stage 16878 contains a task of very large size (2846 KiB). The maximum recommended task size is 1000 KiB.\n",
      "23/06/29 08:46:03 WARN TaskSetManager: Stage 16880 contains a task of very large size (2846 KiB). The maximum recommended task size is 1000 KiB.\n",
      "23/06/29 08:46:03 WARN TaskSetManager: Stage 16882 contains a task of very large size (2855 KiB). The maximum recommended task size is 1000 KiB.\n",
      "23/06/29 08:46:03 WARN TaskSetManager: Stage 16884 contains a task of very large size (2846 KiB). The maximum recommended task size is 1000 KiB.\n",
      "23/06/29 08:46:03 WARN TaskSetManager: Stage 16886 contains a task of very large size (2855 KiB). The maximum recommended task size is 1000 KiB.\n",
      "23/06/29 08:46:03 WARN TaskSetManager: Stage 16888 contains a task of very large size (2855 KiB). The maximum recommended task size is 1000 KiB.\n",
      "23/06/29 08:46:03 WARN TaskSetManager: Stage 16890 contains a task of very large size (2855 KiB). The maximum recommended task size is 1000 KiB.\n",
      "23/06/29 08:46:04 WARN TaskSetManager: Stage 16892 contains a task of very large size (2855 KiB). The maximum recommended task size is 1000 KiB.\n",
      "23/06/29 08:46:04 WARN TaskSetManager: Stage 16894 contains a task of very large size (2846 KiB). The maximum recommended task size is 1000 KiB.\n",
      "23/06/29 08:46:04 WARN TaskSetManager: Stage 16896 contains a task of very large size (2855 KiB). The maximum recommended task size is 1000 KiB.\n",
      "23/06/29 08:46:04 WARN TaskSetManager: Stage 16898 contains a task of very large size (2855 KiB). The maximum recommended task size is 1000 KiB.\n",
      "23/06/29 08:46:05 WARN TaskSetManager: Stage 16900 contains a task of very large size (2846 KiB). The maximum recommended task size is 1000 KiB.\n",
      "23/06/29 08:46:05 WARN TaskSetManager: Stage 16902 contains a task of very large size (2855 KiB). The maximum recommended task size is 1000 KiB.\n",
      "23/06/29 08:46:05 WARN TaskSetManager: Stage 16904 contains a task of very large size (2855 KiB). The maximum recommended task size is 1000 KiB.\n",
      "23/06/29 08:46:05 WARN TaskSetManager: Stage 16905 contains a task of very large size (2855 KiB). The maximum recommended task size is 1000 KiB.\n",
      "23/06/29 08:46:05 WARN TaskSetManager: Stage 16906 contains a task of very large size (2855 KiB). The maximum recommended task size is 1000 KiB.\n",
      "23/06/29 08:46:05 WARN TaskSetManager: Stage 16907 contains a task of very large size (2855 KiB). The maximum recommended task size is 1000 KiB.\n",
      "23/06/29 08:46:05 WARN TaskSetManager: Stage 16908 contains a task of very large size (2846 KiB). The maximum recommended task size is 1000 KiB.\n",
      "23/06/29 08:46:05 WARN TaskSetManager: Stage 16909 contains a task of very large size (2846 KiB). The maximum recommended task size is 1000 KiB.\n",
      "23/06/29 08:46:05 WARN TaskSetManager: Stage 16910 contains a task of very large size (2855 KiB). The maximum recommended task size is 1000 KiB.\n",
      "23/06/29 08:46:05 WARN TaskSetManager: Stage 16912 contains a task of very large size (2846 KiB). The maximum recommended task size is 1000 KiB.\n",
      "23/06/29 08:46:05 WARN TaskSetManager: Stage 16914 contains a task of very large size (2855 KiB). The maximum recommended task size is 1000 KiB.\n",
      "23/06/29 08:46:05 WARN TaskSetManager: Stage 16916 contains a task of very large size (2846 KiB). The maximum recommended task size is 1000 KiB.\n",
      "23/06/29 08:46:05 WARN TaskSetManager: Stage 16918 contains a task of very large size (2855 KiB). The maximum recommended task size is 1000 KiB.\n",
      "23/06/29 08:46:05 WARN TaskSetManager: Stage 16920 contains a task of very large size (2855 KiB). The maximum recommended task size is 1000 KiB.\n",
      "23/06/29 08:46:05 WARN TaskSetManager: Stage 16922 contains a task of very large size (2846 KiB). The maximum recommended task size is 1000 KiB.\n",
      "23/06/29 08:46:05 WARN TaskSetManager: Stage 16924 contains a task of very large size (2855 KiB). The maximum recommended task size is 1000 KiB.\n",
      "23/06/29 08:46:05 WARN TaskSetManager: Stage 16926 contains a task of very large size (2855 KiB). The maximum recommended task size is 1000 KiB.\n",
      "23/06/29 08:46:05 WARN TaskSetManager: Stage 16928 contains a task of very large size (2846 KiB). The maximum recommended task size is 1000 KiB.\n",
      "23/06/29 08:46:05 WARN TaskSetManager: Stage 16930 contains a task of very large size (2855 KiB). The maximum recommended task size is 1000 KiB.\n",
      "23/06/29 08:46:06 WARN TaskSetManager: Stage 16932 contains a task of very large size (2846 KiB). The maximum recommended task size is 1000 KiB.\n",
      "23/06/29 08:46:06 WARN TaskSetManager: Stage 16934 contains a task of very large size (2846 KiB). The maximum recommended task size is 1000 KiB.\n",
      "23/06/29 08:46:06 WARN TaskSetManager: Stage 16936 contains a task of very large size (2855 KiB). The maximum recommended task size is 1000 KiB.\n",
      "23/06/29 08:46:06 WARN TaskSetManager: Stage 16938 contains a task of very large size (2846 KiB). The maximum recommended task size is 1000 KiB.\n",
      "23/06/29 08:46:06 WARN TaskSetManager: Stage 16940 contains a task of very large size (2846 KiB). The maximum recommended task size is 1000 KiB.\n",
      "23/06/29 08:46:06 WARN TaskSetManager: Stage 16942 contains a task of very large size (2846 KiB). The maximum recommended task size is 1000 KiB.\n",
      "23/06/29 08:46:06 WARN TaskSetManager: Stage 16944 contains a task of very large size (2855 KiB). The maximum recommended task size is 1000 KiB.\n",
      "23/06/29 08:46:06 WARN TaskSetManager: Stage 16946 contains a task of very large size (2855 KiB). The maximum recommended task size is 1000 KiB.\n",
      "23/06/29 08:46:06 WARN TaskSetManager: Stage 16948 contains a task of very large size (2855 KiB). The maximum recommended task size is 1000 KiB.\n",
      "23/06/29 08:46:06 WARN TaskSetManager: Stage 16950 contains a task of very large size (2855 KiB). The maximum recommended task size is 1000 KiB.\n",
      "23/06/29 08:46:06 WARN TaskSetManager: Stage 16952 contains a task of very large size (2855 KiB). The maximum recommended task size is 1000 KiB.\n",
      "23/06/29 08:46:07 WARN TaskSetManager: Stage 16954 contains a task of very large size (2855 KiB). The maximum recommended task size is 1000 KiB.\n",
      "23/06/29 08:46:07 WARN TaskSetManager: Stage 16956 contains a task of very large size (2855 KiB). The maximum recommended task size is 1000 KiB.\n",
      "23/06/29 08:46:07 WARN TaskSetManager: Stage 16958 contains a task of very large size (2855 KiB). The maximum recommended task size is 1000 KiB.\n",
      "23/06/29 08:46:07 WARN TaskSetManager: Stage 16959 contains a task of very large size (2846 KiB). The maximum recommended task size is 1000 KiB.\n",
      "23/06/29 08:46:07 WARN TaskSetManager: Stage 16960 contains a task of very large size (2855 KiB). The maximum recommended task size is 1000 KiB.\n",
      "23/06/29 08:46:07 WARN TaskSetManager: Stage 16961 contains a task of very large size (2855 KiB). The maximum recommended task size is 1000 KiB.\n",
      "23/06/29 08:46:07 WARN TaskSetManager: Stage 16962 contains a task of very large size (2846 KiB). The maximum recommended task size is 1000 KiB.\n",
      "23/06/29 08:46:07 WARN TaskSetManager: Stage 16963 contains a task of very large size (2846 KiB). The maximum recommended task size is 1000 KiB.\n",
      "23/06/29 08:46:07 WARN TaskSetManager: Stage 16964 contains a task of very large size (2846 KiB). The maximum recommended task size is 1000 KiB.\n",
      "23/06/29 08:46:07 WARN TaskSetManager: Stage 16966 contains a task of very large size (2846 KiB). The maximum recommended task size is 1000 KiB.\n",
      "23/06/29 08:46:08 WARN TaskSetManager: Stage 16968 contains a task of very large size (2846 KiB). The maximum recommended task size is 1000 KiB.\n",
      "23/06/29 08:46:08 WARN TaskSetManager: Stage 16970 contains a task of very large size (2855 KiB). The maximum recommended task size is 1000 KiB.\n",
      "23/06/29 08:46:08 WARN TaskSetManager: Stage 16972 contains a task of very large size (2846 KiB). The maximum recommended task size is 1000 KiB.\n",
      "23/06/29 08:46:08 WARN TaskSetManager: Stage 16974 contains a task of very large size (2846 KiB). The maximum recommended task size is 1000 KiB.\n",
      "23/06/29 08:46:08 WARN TaskSetManager: Stage 16976 contains a task of very large size (2855 KiB). The maximum recommended task size is 1000 KiB.\n",
      "23/06/29 08:46:08 WARN TaskSetManager: Stage 16978 contains a task of very large size (2855 KiB). The maximum recommended task size is 1000 KiB.\n",
      "23/06/29 08:46:08 WARN TaskSetManager: Stage 16980 contains a task of very large size (2855 KiB). The maximum recommended task size is 1000 KiB.\n",
      "23/06/29 08:46:08 WARN TaskSetManager: Stage 16982 contains a task of very large size (2855 KiB). The maximum recommended task size is 1000 KiB.\n",
      "23/06/29 08:46:08 WARN TaskSetManager: Stage 16984 contains a task of very large size (2846 KiB). The maximum recommended task size is 1000 KiB.\n",
      "23/06/29 08:46:08 WARN TaskSetManager: Stage 16986 contains a task of very large size (2855 KiB). The maximum recommended task size is 1000 KiB.\n",
      "23/06/29 08:46:09 WARN TaskSetManager: Stage 16988 contains a task of very large size (2855 KiB). The maximum recommended task size is 1000 KiB.\n",
      "23/06/29 08:46:09 WARN TaskSetManager: Stage 16990 contains a task of very large size (2846 KiB). The maximum recommended task size is 1000 KiB.\n",
      "23/06/29 08:46:09 WARN TaskSetManager: Stage 16992 contains a task of very large size (2855 KiB). The maximum recommended task size is 1000 KiB.\n",
      "23/06/29 08:46:09 WARN TaskSetManager: Stage 16994 contains a task of very large size (2846 KiB). The maximum recommended task size is 1000 KiB.\n",
      "23/06/29 08:46:09 WARN TaskSetManager: Stage 16996 contains a task of very large size (2855 KiB). The maximum recommended task size is 1000 KiB.\n",
      "23/06/29 08:46:09 WARN TaskSetManager: Stage 16998 contains a task of very large size (2846 KiB). The maximum recommended task size is 1000 KiB.\n",
      "23/06/29 08:46:09 WARN TaskSetManager: Stage 17000 contains a task of very large size (2846 KiB). The maximum recommended task size is 1000 KiB.\n",
      "23/06/29 08:46:09 WARN TaskSetManager: Stage 17002 contains a task of very large size (2855 KiB). The maximum recommended task size is 1000 KiB.\n",
      "23/06/29 08:46:09 WARN TaskSetManager: Stage 17004 contains a task of very large size (2855 KiB). The maximum recommended task size is 1000 KiB.\n",
      "23/06/29 08:46:09 WARN TaskSetManager: Stage 17006 contains a task of very large size (2846 KiB). The maximum recommended task size is 1000 KiB.\n",
      "23/06/29 08:46:10 WARN TaskSetManager: Stage 17008 contains a task of very large size (2855 KiB). The maximum recommended task size is 1000 KiB.\n",
      "23/06/29 08:46:10 WARN TaskSetManager: Stage 17010 contains a task of very large size (2855 KiB). The maximum recommended task size is 1000 KiB.\n",
      "23/06/29 08:46:10 WARN TaskSetManager: Stage 17012 contains a task of very large size (2846 KiB). The maximum recommended task size is 1000 KiB.\n",
      "23/06/29 08:46:10 WARN TaskSetManager: Stage 17013 contains a task of very large size (2855 KiB). The maximum recommended task size is 1000 KiB.\n",
      "23/06/29 08:46:10 WARN TaskSetManager: Stage 17014 contains a task of very large size (2855 KiB). The maximum recommended task size is 1000 KiB.\n",
      "23/06/29 08:46:10 WARN TaskSetManager: Stage 17015 contains a task of very large size (2855 KiB). The maximum recommended task size is 1000 KiB.\n",
      "23/06/29 08:46:10 WARN TaskSetManager: Stage 17016 contains a task of very large size (2846 KiB). The maximum recommended task size is 1000 KiB.\n",
      "23/06/29 08:46:10 WARN TaskSetManager: Stage 17017 contains a task of very large size (2846 KiB). The maximum recommended task size is 1000 KiB.\n",
      "23/06/29 08:46:10 WARN TaskSetManager: Stage 17018 contains a task of very large size (2846 KiB). The maximum recommended task size is 1000 KiB.\n",
      "23/06/29 08:46:10 WARN TaskSetManager: Stage 17020 contains a task of very large size (2846 KiB). The maximum recommended task size is 1000 KiB.\n",
      "23/06/29 08:46:11 WARN TaskSetManager: Stage 17022 contains a task of very large size (2846 KiB). The maximum recommended task size is 1000 KiB.\n",
      "23/06/29 08:46:11 WARN TaskSetManager: Stage 17024 contains a task of very large size (2855 KiB). The maximum recommended task size is 1000 KiB.\n",
      "23/06/29 08:46:11 WARN TaskSetManager: Stage 17026 contains a task of very large size (2855 KiB). The maximum recommended task size is 1000 KiB.\n",
      "23/06/29 08:46:11 WARN TaskSetManager: Stage 17028 contains a task of very large size (2846 KiB). The maximum recommended task size is 1000 KiB.\n",
      "23/06/29 08:46:11 WARN TaskSetManager: Stage 17030 contains a task of very large size (2846 KiB). The maximum recommended task size is 1000 KiB.\n",
      "23/06/29 08:46:11 WARN TaskSetManager: Stage 17032 contains a task of very large size (2846 KiB). The maximum recommended task size is 1000 KiB.\n",
      "23/06/29 08:46:11 WARN TaskSetManager: Stage 17034 contains a task of very large size (2846 KiB). The maximum recommended task size is 1000 KiB.\n",
      "23/06/29 08:46:11 WARN TaskSetManager: Stage 17036 contains a task of very large size (2855 KiB). The maximum recommended task size is 1000 KiB.\n",
      "23/06/29 08:46:11 WARN TaskSetManager: Stage 17038 contains a task of very large size (2846 KiB). The maximum recommended task size is 1000 KiB.\n",
      "23/06/29 08:46:11 WARN TaskSetManager: Stage 17040 contains a task of very large size (2846 KiB). The maximum recommended task size is 1000 KiB.\n",
      "23/06/29 08:46:11 WARN TaskSetManager: Stage 17042 contains a task of very large size (2846 KiB). The maximum recommended task size is 1000 KiB.\n",
      "23/06/29 08:46:11 WARN TaskSetManager: Stage 17044 contains a task of very large size (2846 KiB). The maximum recommended task size is 1000 KiB.\n",
      "23/06/29 08:46:11 WARN TaskSetManager: Stage 17046 contains a task of very large size (2846 KiB). The maximum recommended task size is 1000 KiB.\n",
      "23/06/29 08:46:11 WARN TaskSetManager: Stage 17048 contains a task of very large size (2855 KiB). The maximum recommended task size is 1000 KiB.\n",
      "23/06/29 08:46:11 WARN TaskSetManager: Stage 17050 contains a task of very large size (2855 KiB). The maximum recommended task size is 1000 KiB.\n",
      "23/06/29 08:46:11 WARN TaskSetManager: Stage 17052 contains a task of very large size (2846 KiB). The maximum recommended task size is 1000 KiB.\n",
      "23/06/29 08:46:11 WARN TaskSetManager: Stage 17054 contains a task of very large size (2846 KiB). The maximum recommended task size is 1000 KiB.\n",
      "23/06/29 08:46:11 WARN TaskSetManager: Stage 17056 contains a task of very large size (2846 KiB). The maximum recommended task size is 1000 KiB.\n",
      "23/06/29 08:46:11 WARN TaskSetManager: Stage 17058 contains a task of very large size (2855 KiB). The maximum recommended task size is 1000 KiB.\n",
      "23/06/29 08:46:12 WARN TaskSetManager: Stage 17060 contains a task of very large size (2855 KiB). The maximum recommended task size is 1000 KiB.\n",
      "23/06/29 08:46:13 WARN TaskSetManager: Stage 17062 contains a task of very large size (2846 KiB). The maximum recommended task size is 1000 KiB.\n",
      "23/06/29 08:46:13 WARN TaskSetManager: Stage 17064 contains a task of very large size (2855 KiB). The maximum recommended task size is 1000 KiB.\n",
      "23/06/29 08:46:13 WARN TaskSetManager: Stage 17066 contains a task of very large size (2855 KiB). The maximum recommended task size is 1000 KiB.\n",
      "23/06/29 08:46:13 WARN TaskSetManager: Stage 17067 contains a task of very large size (2846 KiB). The maximum recommended task size is 1000 KiB.\n",
      "23/06/29 08:46:13 WARN TaskSetManager: Stage 17068 contains a task of very large size (2855 KiB). The maximum recommended task size is 1000 KiB.\n",
      "23/06/29 08:46:13 WARN TaskSetManager: Stage 17069 contains a task of very large size (2846 KiB). The maximum recommended task size is 1000 KiB.\n",
      "23/06/29 08:46:13 WARN TaskSetManager: Stage 17070 contains a task of very large size (2846 KiB). The maximum recommended task size is 1000 KiB.\n",
      "23/06/29 08:46:13 WARN TaskSetManager: Stage 17071 contains a task of very large size (2846 KiB). The maximum recommended task size is 1000 KiB.\n",
      "23/06/29 08:46:13 WARN TaskSetManager: Stage 17072 contains a task of very large size (2855 KiB). The maximum recommended task size is 1000 KiB.\n",
      "23/06/29 08:46:13 WARN TaskSetManager: Stage 17074 contains a task of very large size (2855 KiB). The maximum recommended task size is 1000 KiB.\n",
      "23/06/29 08:46:13 WARN TaskSetManager: Stage 17076 contains a task of very large size (2855 KiB). The maximum recommended task size is 1000 KiB.\n",
      "23/06/29 08:46:13 WARN TaskSetManager: Stage 17078 contains a task of very large size (2855 KiB). The maximum recommended task size is 1000 KiB.\n",
      "23/06/29 08:46:13 WARN TaskSetManager: Stage 17080 contains a task of very large size (2846 KiB). The maximum recommended task size is 1000 KiB.\n",
      "23/06/29 08:46:13 WARN TaskSetManager: Stage 17082 contains a task of very large size (2855 KiB). The maximum recommended task size is 1000 KiB.\n",
      "23/06/29 08:46:13 WARN TaskSetManager: Stage 17084 contains a task of very large size (2855 KiB). The maximum recommended task size is 1000 KiB.\n",
      "23/06/29 08:46:13 WARN TaskSetManager: Stage 17086 contains a task of very large size (2846 KiB). The maximum recommended task size is 1000 KiB.\n",
      "23/06/29 08:46:13 WARN TaskSetManager: Stage 17088 contains a task of very large size (2855 KiB). The maximum recommended task size is 1000 KiB.\n",
      "23/06/29 08:46:13 WARN TaskSetManager: Stage 17090 contains a task of very large size (2846 KiB). The maximum recommended task size is 1000 KiB.\n",
      "23/06/29 08:46:13 WARN TaskSetManager: Stage 17092 contains a task of very large size (2855 KiB). The maximum recommended task size is 1000 KiB.\n",
      "23/06/29 08:46:13 WARN TaskSetManager: Stage 17094 contains a task of very large size (2846 KiB). The maximum recommended task size is 1000 KiB.\n",
      "23/06/29 08:46:14 WARN TaskSetManager: Stage 17096 contains a task of very large size (2855 KiB). The maximum recommended task size is 1000 KiB.\n",
      "23/06/29 08:46:14 WARN TaskSetManager: Stage 17098 contains a task of very large size (2855 KiB). The maximum recommended task size is 1000 KiB.\n",
      "23/06/29 08:46:14 WARN TaskSetManager: Stage 17100 contains a task of very large size (2846 KiB). The maximum recommended task size is 1000 KiB.\n",
      "23/06/29 08:46:14 WARN TaskSetManager: Stage 17102 contains a task of very large size (2846 KiB). The maximum recommended task size is 1000 KiB.\n",
      "23/06/29 08:46:14 WARN TaskSetManager: Stage 17104 contains a task of very large size (2855 KiB). The maximum recommended task size is 1000 KiB.\n",
      "23/06/29 08:46:14 WARN TaskSetManager: Stage 17106 contains a task of very large size (2855 KiB). The maximum recommended task size is 1000 KiB.\n",
      "23/06/29 08:46:14 WARN TaskSetManager: Stage 17108 contains a task of very large size (2855 KiB). The maximum recommended task size is 1000 KiB.\n",
      "23/06/29 08:46:14 WARN TaskSetManager: Stage 17110 contains a task of very large size (2846 KiB). The maximum recommended task size is 1000 KiB.\n",
      "23/06/29 08:46:14 WARN TaskSetManager: Stage 17112 contains a task of very large size (2846 KiB). The maximum recommended task size is 1000 KiB.\n",
      "23/06/29 08:46:14 WARN TaskSetManager: Stage 17114 contains a task of very large size (2855 KiB). The maximum recommended task size is 1000 KiB.\n",
      "23/06/29 08:46:15 WARN TaskSetManager: Stage 17116 contains a task of very large size (2846 KiB). The maximum recommended task size is 1000 KiB.\n",
      "23/06/29 08:46:15 WARN TaskSetManager: Stage 17118 contains a task of very large size (2846 KiB). The maximum recommended task size is 1000 KiB.\n",
      "23/06/29 08:46:15 WARN TaskSetManager: Stage 17120 contains a task of very large size (2855 KiB). The maximum recommended task size is 1000 KiB.\n",
      "23/06/29 08:46:15 WARN TaskSetManager: Stage 17121 contains a task of very large size (2855 KiB). The maximum recommended task size is 1000 KiB.\n",
      "23/06/29 08:46:15 WARN TaskSetManager: Stage 17122 contains a task of very large size (2846 KiB). The maximum recommended task size is 1000 KiB.\n",
      "23/06/29 08:46:15 WARN TaskSetManager: Stage 17123 contains a task of very large size (2846 KiB). The maximum recommended task size is 1000 KiB.\n",
      "23/06/29 08:46:15 WARN TaskSetManager: Stage 17124 contains a task of very large size (2846 KiB). The maximum recommended task size is 1000 KiB.\n",
      "23/06/29 08:46:15 WARN TaskSetManager: Stage 17125 contains a task of very large size (2855 KiB). The maximum recommended task size is 1000 KiB.\n",
      "23/06/29 08:46:15 WARN TaskSetManager: Stage 17126 contains a task of very large size (2846 KiB). The maximum recommended task size is 1000 KiB.\n",
      "23/06/29 08:46:15 WARN TaskSetManager: Stage 17128 contains a task of very large size (2846 KiB). The maximum recommended task size is 1000 KiB.\n",
      "23/06/29 08:46:15 WARN TaskSetManager: Stage 17130 contains a task of very large size (2846 KiB). The maximum recommended task size is 1000 KiB.\n",
      "23/06/29 08:46:15 WARN TaskSetManager: Stage 17132 contains a task of very large size (2846 KiB). The maximum recommended task size is 1000 KiB.\n",
      "23/06/29 08:46:16 WARN TaskSetManager: Stage 17134 contains a task of very large size (2846 KiB). The maximum recommended task size is 1000 KiB.\n",
      "23/06/29 08:46:16 WARN TaskSetManager: Stage 17136 contains a task of very large size (2846 KiB). The maximum recommended task size is 1000 KiB.\n",
      "23/06/29 08:46:16 WARN TaskSetManager: Stage 17138 contains a task of very large size (2846 KiB). The maximum recommended task size is 1000 KiB.\n",
      "23/06/29 08:46:16 WARN TaskSetManager: Stage 17140 contains a task of very large size (2855 KiB). The maximum recommended task size is 1000 KiB.\n",
      "23/06/29 08:46:16 WARN TaskSetManager: Stage 17142 contains a task of very large size (2855 KiB). The maximum recommended task size is 1000 KiB.\n",
      "23/06/29 08:46:16 WARN TaskSetManager: Stage 17144 contains a task of very large size (2846 KiB). The maximum recommended task size is 1000 KiB.\n",
      "23/06/29 08:46:16 WARN TaskSetManager: Stage 17146 contains a task of very large size (2855 KiB). The maximum recommended task size is 1000 KiB.\n",
      "23/06/29 08:46:16 WARN TaskSetManager: Stage 17148 contains a task of very large size (2846 KiB). The maximum recommended task size is 1000 KiB.\n",
      "23/06/29 08:46:16 WARN TaskSetManager: Stage 17150 contains a task of very large size (2846 KiB). The maximum recommended task size is 1000 KiB.\n",
      "23/06/29 08:46:16 WARN TaskSetManager: Stage 17152 contains a task of very large size (2846 KiB). The maximum recommended task size is 1000 KiB.\n",
      "23/06/29 08:46:17 WARN TaskSetManager: Stage 17154 contains a task of very large size (2846 KiB). The maximum recommended task size is 1000 KiB.\n",
      "23/06/29 08:46:17 WARN TaskSetManager: Stage 17156 contains a task of very large size (2846 KiB). The maximum recommended task size is 1000 KiB.\n",
      "23/06/29 08:46:17 WARN TaskSetManager: Stage 17158 contains a task of very large size (2846 KiB). The maximum recommended task size is 1000 KiB.\n",
      "23/06/29 08:46:17 WARN TaskSetManager: Stage 17160 contains a task of very large size (2855 KiB). The maximum recommended task size is 1000 KiB.\n",
      "23/06/29 08:46:17 WARN TaskSetManager: Stage 17162 contains a task of very large size (2846 KiB). The maximum recommended task size is 1000 KiB.\n",
      "23/06/29 08:46:17 WARN TaskSetManager: Stage 17164 contains a task of very large size (2855 KiB). The maximum recommended task size is 1000 KiB.\n",
      "23/06/29 08:46:17 WARN TaskSetManager: Stage 17166 contains a task of very large size (2846 KiB). The maximum recommended task size is 1000 KiB.\n",
      "23/06/29 08:46:17 WARN TaskSetManager: Stage 17168 contains a task of very large size (2855 KiB). The maximum recommended task size is 1000 KiB.\n",
      "23/06/29 08:46:18 WARN TaskSetManager: Stage 17170 contains a task of very large size (2855 KiB). The maximum recommended task size is 1000 KiB.\n",
      "23/06/29 08:46:18 WARN TaskSetManager: Stage 17172 contains a task of very large size (2846 KiB). The maximum recommended task size is 1000 KiB.\n",
      "23/06/29 08:46:18 WARN TaskSetManager: Stage 17174 contains a task of very large size (2846 KiB). The maximum recommended task size is 1000 KiB.\n",
      "23/06/29 08:46:18 WARN TaskSetManager: Stage 17175 contains a task of very large size (2855 KiB). The maximum recommended task size is 1000 KiB.\n",
      "23/06/29 08:46:18 WARN TaskSetManager: Stage 17176 contains a task of very large size (2855 KiB). The maximum recommended task size is 1000 KiB.\n",
      "23/06/29 08:46:18 WARN TaskSetManager: Stage 17177 contains a task of very large size (2846 KiB). The maximum recommended task size is 1000 KiB.\n",
      "23/06/29 08:46:18 WARN TaskSetManager: Stage 17178 contains a task of very large size (2855 KiB). The maximum recommended task size is 1000 KiB.\n",
      "23/06/29 08:46:19 WARN TaskSetManager: Stage 17179 contains a task of very large size (2855 KiB). The maximum recommended task size is 1000 KiB.\n",
      "23/06/29 08:46:19 WARN TaskSetManager: Stage 17180 contains a task of very large size (2855 KiB). The maximum recommended task size is 1000 KiB.\n",
      "23/06/29 08:46:19 WARN TaskSetManager: Stage 17182 contains a task of very large size (2846 KiB). The maximum recommended task size is 1000 KiB.\n",
      "23/06/29 08:46:19 WARN TaskSetManager: Stage 17184 contains a task of very large size (2855 KiB). The maximum recommended task size is 1000 KiB.\n",
      "23/06/29 08:46:19 WARN TaskSetManager: Stage 17186 contains a task of very large size (2846 KiB). The maximum recommended task size is 1000 KiB.\n",
      "23/06/29 08:46:19 WARN TaskSetManager: Stage 17188 contains a task of very large size (2855 KiB). The maximum recommended task size is 1000 KiB.\n",
      "23/06/29 08:46:19 WARN TaskSetManager: Stage 17190 contains a task of very large size (2855 KiB). The maximum recommended task size is 1000 KiB.\n",
      "23/06/29 08:46:19 WARN TaskSetManager: Stage 17192 contains a task of very large size (2846 KiB). The maximum recommended task size is 1000 KiB.\n",
      "23/06/29 08:46:19 WARN TaskSetManager: Stage 17194 contains a task of very large size (2846 KiB). The maximum recommended task size is 1000 KiB.\n",
      "23/06/29 08:46:19 WARN TaskSetManager: Stage 17196 contains a task of very large size (2846 KiB). The maximum recommended task size is 1000 KiB.\n",
      "23/06/29 08:46:19 WARN TaskSetManager: Stage 17198 contains a task of very large size (2846 KiB). The maximum recommended task size is 1000 KiB.\n",
      "23/06/29 08:46:19 WARN TaskSetManager: Stage 17200 contains a task of very large size (2846 KiB). The maximum recommended task size is 1000 KiB.\n",
      "23/06/29 08:46:19 WARN TaskSetManager: Stage 17202 contains a task of very large size (2846 KiB). The maximum recommended task size is 1000 KiB.\n",
      "23/06/29 08:46:19 WARN TaskSetManager: Stage 17204 contains a task of very large size (2855 KiB). The maximum recommended task size is 1000 KiB.\n",
      "23/06/29 08:46:19 WARN TaskSetManager: Stage 17206 contains a task of very large size (2855 KiB). The maximum recommended task size is 1000 KiB.\n",
      "23/06/29 08:46:19 WARN TaskSetManager: Stage 17208 contains a task of very large size (2846 KiB). The maximum recommended task size is 1000 KiB.\n",
      "23/06/29 08:46:19 WARN TaskSetManager: Stage 17210 contains a task of very large size (2846 KiB). The maximum recommended task size is 1000 KiB.\n",
      "23/06/29 08:46:19 WARN TaskSetManager: Stage 17212 contains a task of very large size (2846 KiB). The maximum recommended task size is 1000 KiB.\n",
      "23/06/29 08:46:20 WARN TaskSetManager: Stage 17214 contains a task of very large size (2855 KiB). The maximum recommended task size is 1000 KiB.\n",
      "23/06/29 08:46:20 WARN TaskSetManager: Stage 17216 contains a task of very large size (2846 KiB). The maximum recommended task size is 1000 KiB.\n",
      "23/06/29 08:46:20 WARN TaskSetManager: Stage 17218 contains a task of very large size (2855 KiB). The maximum recommended task size is 1000 KiB.\n",
      "23/06/29 08:46:20 WARN TaskSetManager: Stage 17220 contains a task of very large size (2846 KiB). The maximum recommended task size is 1000 KiB.\n",
      "23/06/29 08:46:20 WARN TaskSetManager: Stage 17222 contains a task of very large size (2855 KiB). The maximum recommended task size is 1000 KiB.\n",
      "23/06/29 08:46:21 WARN TaskSetManager: Stage 17224 contains a task of very large size (2846 KiB). The maximum recommended task size is 1000 KiB.\n",
      "23/06/29 08:46:21 WARN TaskSetManager: Stage 17226 contains a task of very large size (2846 KiB). The maximum recommended task size is 1000 KiB.\n",
      "23/06/29 08:46:21 WARN TaskSetManager: Stage 17228 contains a task of very large size (2855 KiB). The maximum recommended task size is 1000 KiB.\n",
      "23/06/29 08:46:21 WARN TaskSetManager: Stage 17229 contains a task of very large size (2855 KiB). The maximum recommended task size is 1000 KiB.\n",
      "23/06/29 08:46:21 WARN TaskSetManager: Stage 17230 contains a task of very large size (2846 KiB). The maximum recommended task size is 1000 KiB.\n",
      "23/06/29 08:46:21 WARN TaskSetManager: Stage 17231 contains a task of very large size (2846 KiB). The maximum recommended task size is 1000 KiB.\n",
      "23/06/29 08:46:21 WARN TaskSetManager: Stage 17232 contains a task of very large size (2855 KiB). The maximum recommended task size is 1000 KiB.\n",
      "23/06/29 08:46:21 WARN TaskSetManager: Stage 17233 contains a task of very large size (2855 KiB). The maximum recommended task size is 1000 KiB.\n",
      "23/06/29 08:46:21 WARN TaskSetManager: Stage 17234 contains a task of very large size (2846 KiB). The maximum recommended task size is 1000 KiB.\n",
      "23/06/29 08:46:21 WARN TaskSetManager: Stage 17236 contains a task of very large size (2846 KiB). The maximum recommended task size is 1000 KiB.\n",
      "23/06/29 08:46:21 WARN TaskSetManager: Stage 17238 contains a task of very large size (2846 KiB). The maximum recommended task size is 1000 KiB.\n",
      "23/06/29 08:46:21 WARN TaskSetManager: Stage 17240 contains a task of very large size (2855 KiB). The maximum recommended task size is 1000 KiB.\n",
      "23/06/29 08:46:21 WARN TaskSetManager: Stage 17242 contains a task of very large size (2846 KiB). The maximum recommended task size is 1000 KiB.\n",
      "23/06/29 08:46:21 WARN TaskSetManager: Stage 17244 contains a task of very large size (2855 KiB). The maximum recommended task size is 1000 KiB.\n",
      "23/06/29 08:46:22 WARN TaskSetManager: Stage 17246 contains a task of very large size (2855 KiB). The maximum recommended task size is 1000 KiB.\n",
      "23/06/29 08:46:22 WARN TaskSetManager: Stage 17248 contains a task of very large size (2855 KiB). The maximum recommended task size is 1000 KiB.\n",
      "23/06/29 08:46:22 WARN TaskSetManager: Stage 17250 contains a task of very large size (2846 KiB). The maximum recommended task size is 1000 KiB.\n",
      "23/06/29 08:46:22 WARN TaskSetManager: Stage 17252 contains a task of very large size (2855 KiB). The maximum recommended task size is 1000 KiB.\n",
      "23/06/29 08:46:22 WARN TaskSetManager: Stage 17254 contains a task of very large size (2846 KiB). The maximum recommended task size is 1000 KiB.\n",
      "23/06/29 08:46:22 WARN TaskSetManager: Stage 17256 contains a task of very large size (2846 KiB). The maximum recommended task size is 1000 KiB.\n",
      "23/06/29 08:46:22 WARN TaskSetManager: Stage 17258 contains a task of very large size (2846 KiB). The maximum recommended task size is 1000 KiB.\n",
      "23/06/29 08:46:22 WARN TaskSetManager: Stage 17260 contains a task of very large size (2846 KiB). The maximum recommended task size is 1000 KiB.\n",
      "23/06/29 08:46:22 WARN TaskSetManager: Stage 17262 contains a task of very large size (2855 KiB). The maximum recommended task size is 1000 KiB.\n",
      "23/06/29 08:46:22 WARN TaskSetManager: Stage 17264 contains a task of very large size (2846 KiB). The maximum recommended task size is 1000 KiB.\n",
      "23/06/29 08:46:22 WARN TaskSetManager: Stage 17266 contains a task of very large size (2855 KiB). The maximum recommended task size is 1000 KiB.\n",
      "23/06/29 08:46:22 WARN TaskSetManager: Stage 17268 contains a task of very large size (2846 KiB). The maximum recommended task size is 1000 KiB.\n",
      "23/06/29 08:46:22 WARN TaskSetManager: Stage 17270 contains a task of very large size (2855 KiB). The maximum recommended task size is 1000 KiB.\n",
      "23/06/29 08:46:22 WARN TaskSetManager: Stage 17272 contains a task of very large size (2855 KiB). The maximum recommended task size is 1000 KiB.\n",
      "23/06/29 08:46:23 WARN TaskSetManager: Stage 17274 contains a task of very large size (2846 KiB). The maximum recommended task size is 1000 KiB.\n",
      "23/06/29 08:46:23 WARN TaskSetManager: Stage 17276 contains a task of very large size (2846 KiB). The maximum recommended task size is 1000 KiB.\n",
      "23/06/29 08:46:23 WARN TaskSetManager: Stage 17278 contains a task of very large size (2855 KiB). The maximum recommended task size is 1000 KiB.\n",
      "23/06/29 08:46:23 WARN TaskSetManager: Stage 17280 contains a task of very large size (2846 KiB). The maximum recommended task size is 1000 KiB.\n"
     ]
    }
   ],
   "source": [
    "from pyspark.ml.tuning import ParamGridBuilder, CrossValidator\n",
    "from pyspark.ml.evaluation import ClusteringEvaluator\n",
    "import warnings\n",
    "warnings.filterwarnings(\"ignore\")\n",
    "\n",
    "# Define the K-means model\n",
    "kmeans = KMeans(featuresCol=\"features\", predictionCol=\"prediction\")\n",
    "\n",
    "# Define the parameter grid\n",
    "kmeans_param_grid = ParamGridBuilder() \\\n",
    "    .addGrid(kmeans.k, range(2, 20+1)) \\\n",
    "    .build()\n",
    "\n",
    "# Define the evaluator\n",
    "evaluator = ClusteringEvaluator()\n",
    "\n",
    "# Define the cross-validator\n",
    "crossval = CrossValidator(estimator=kmeans,\n",
    "                          estimatorParamMaps=kmeans_param_grid,\n",
    "                          evaluator=evaluator,\n",
    "                          numFolds=5)\n",
    "\n",
    "# Fit the cross-validator to the data\n",
    "crossval_model = crossval.fit(feature_vector)\n",
    "\n",
    "# Get the best K-means model\n",
    "best_kmeans_model = crossval_model.bestModel\n",
    "\n",
    "# Get the best K\n",
    "best_k = best_kmeans_model.getK()\n",
    "\n",
    "# Evaluate the best K-means model\n",
    "kmeans_predictions = best_kmeans_model.transform(feature_vector)\n",
    "kmeans_silhouette = evaluator.evaluate(kmeans_predictions)\n",
    "\n",
    "# Print the best K and its Silhouette score\n",
    "print(\"Best K:\", best_k)\n",
    "print(\"K-means Silhouette Score:\", kmeans_silhouette)"
   ]
  },
  {
   "cell_type": "markdown",
   "metadata": {
    "pycharm": {
     "name": "#%% md\n"
    }
   },
   "source": [
    "# Gaussian Mixture"
   ]
  },
  {
   "cell_type": "code",
   "execution_count": 43,
   "metadata": {
    "pycharm": {
     "name": "#%%\n"
    }
   },
   "outputs": [
    {
     "name": "stdout",
     "output_type": "stream",
     "text": [
      "Best K: 2\n",
      "GMM Silhouette Score: 0.45129699097495196\n"
     ]
    }
   ],
   "source": [
    "# Define the GMM model\n",
    "gmm = GaussianMixture(featuresCol=\"features\", predictionCol=\"prediction\")\n",
    "\n",
    "# Define the parameter grid\n",
    "param_grid = ParamGridBuilder() \\\n",
    "    .addGrid(gmm.k, [2, 4, 6, 8]) \\\n",
    "    .addGrid(gmm.tol, [0.1, 0.9, 2]) \\\n",
    "    .build()\n",
    "\n",
    "# Define the evaluator\n",
    "evaluator = ClusteringEvaluator()\n",
    "\n",
    "# Define the cross-validator\n",
    "crossval = CrossValidator(estimator=gmm,\n",
    "                          estimatorParamMaps=param_grid,\n",
    "                          evaluator=evaluator,\n",
    "                          numFolds=5)\n",
    "\n",
    "# Fit the cross-validator to the data\n",
    "crossval_model = crossval.fit(feature_vector)\n",
    "\n",
    "# Get the best GMM model\n",
    "best_gmm_model = crossval_model.bestModel\n",
    "\n",
    "# Get the best K from the best model\n",
    "best_k = best_gmm_model.getK()\n",
    "\n",
    "# Evaluate the best GMM model\n",
    "gmm_predictions = best_gmm_model.transform(feature_vector)\n",
    "gmm_silhouette = evaluator.evaluate(gmm_predictions)\n",
    "\n",
    "# Print the best K and its Silhouette score\n",
    "print(\"Best K:\", best_k)\n",
    "print(\"GMM Silhouette Score:\", gmm_silhouette)"
   ]
  },
  {
   "cell_type": "markdown",
   "metadata": {
    "pycharm": {
     "name": "#%% md\n"
    }
   },
   "source": [
    "# Bisecting KMeans"
   ]
  },
  {
   "cell_type": "code",
   "execution_count": 45,
   "metadata": {
    "pycharm": {
     "name": "#%%\n"
    }
   },
   "outputs": [
    {
     "name": "stdout",
     "output_type": "stream",
     "text": [
      "Best K: 2\n",
      "Best maxIter: 20\n",
      "Bisecting K-means Silhouette Score: 0.7181780188904224\n"
     ]
    }
   ],
   "source": [
    "\n",
    "# Define the Bisecting K-means model\n",
    "bisecting_kmeans = BisectingKMeans(featuresCol=\"features\", predictionCol=\"prediction\")\n",
    "\n",
    "# Define the parameter grid\n",
    "param_grid = ParamGridBuilder() \\\n",
    "    .addGrid(bisecting_kmeans.k, [2, 4, 6, 8]) \\\n",
    "    .addGrid(bisecting_kmeans.maxIter, [10, 20, 30]) \\\n",
    "    .build()\n",
    "\n",
    "# Define the evaluator\n",
    "evaluator = ClusteringEvaluator()\n",
    "\n",
    "# Define the cross-validator\n",
    "crossval = CrossValidator(estimator=bisecting_kmeans,\n",
    "                          estimatorParamMaps=param_grid,\n",
    "                          evaluator=evaluator,\n",
    "                          numFolds=5)\n",
    "\n",
    "# Fit the cross-validator to the data\n",
    "crossval_model = crossval.fit(feature_vector)\n",
    "\n",
    "# Get the best Bisecting K-means model\n",
    "best_bisecting_kmeans_model = crossval_model.bestModel\n",
    "\n",
    "# Get the best K and maxIter values\n",
    "best_k = best_bisecting_kmeans_model.getK()\n",
    "best_maxIter = best_bisecting_kmeans_model.getMaxIter()\n",
    "\n",
    "# Evaluate the best Bisecting K-means model\n",
    "bisecting_kmeans_predictions = best_bisecting_kmeans_model.transform(feature_vector)\n",
    "bisecting_kmeans_silhouette = evaluator.evaluate(bisecting_kmeans_predictions)\n",
    "\n",
    "# Print the best K, maxIter, and its Silhouette score\n",
    "print(\"Best K:\", best_k)\n",
    "print(\"Best maxIter:\", best_maxIter)\n",
    "print(\"Bisecting K-means Silhouette Score:\", bisecting_kmeans_silhouette)"
   ]
  },
  {
   "cell_type": "code",
   "execution_count": 75,
   "metadata": {
    "pycharm": {
     "name": "#%%\n"
    }
   },
   "outputs": [
    {
     "data": {
      "image/png": "[encoded data removed]",
      "text/plain": [
       "<Figure size 800x500 with 1 Axes>"
      ]
     },
     "metadata": {},
     "output_type": "display_data"
    }
   ],
   "source": [
    "# Calculate the overall score difference between different models\n",
    "model_names = ['KMeans', 'GMM', 'BisectingKMeans']\n",
    "model_scores = [kmeans_silhouette, gmm_silhouette, bisecting_kmeans_silhouette]\n",
    "\n",
    "# Plot the difference in scores between different models\n",
    "plt.figure(figsize=(8, 5))\n",
    "plt.ylim(0, 1)\n",
    "plt.bar(model_names, model_scores)\n",
    "plt.xlabel('Clustering Model')\n",
    "plt.ylabel('Silhouette Score')\n",
    "plt.title('Difference in Scores between Different Models')\n",
    "plt.show()"
   ]
  },
  {
   "cell_type": "code",
   "execution_count": 91,
   "metadata": {
    "pycharm": {
     "name": "#%%\n"
    }
   },
   "outputs": [
    {
     "name": "stderr",
     "output_type": "stream",
     "text": [
      "23/06/28 19:04:29 WARN TaskSetManager: Stage 12454 contains a task of very large size (2855 KiB). The maximum recommended task size is 1000 KiB.\n",
      "                                                                                \r"
     ]
    },
    {
     "data": {
      "text/plain": [
       "34781"
      ]
     },
     "execution_count": 91,
     "metadata": {},
     "output_type": "execute_result"
    }
   ],
   "source": [
    "kmeans_predictions.count()"
   ]
  },
  {
   "cell_type": "code",
   "execution_count": 93,
   "metadata": {
    "pycharm": {
     "name": "#%%\n"
    }
   },
   "outputs": [
    {
     "name": "stderr",
     "output_type": "stream",
     "text": [
      "23/06/28 19:11:26 WARN TaskSetManager: Stage 12460 contains a task of very large size (2855 KiB). The maximum recommended task size is 1000 KiB.\n",
      "23/06/28 19:11:26 WARN TaskSetManager: Stage 12462 contains a task of very large size (2855 KiB). The maximum recommended task size is 1000 KiB.\n",
      "23/06/28 19:11:27 WARN TaskSetManager: Stage 12463 contains a task of very large size (2846 KiB). The maximum recommended task size is 1000 KiB.\n",
      "23/06/28 19:11:30 WARN TaskSetManager: Stage 12464 contains a task of very large size (2855 KiB). The maximum recommended task size is 1000 KiB.\n",
      "23/06/28 19:11:30 WARN TaskSetManager: Stage 12466 contains a task of very large size (2855 KiB). The maximum recommended task size is 1000 KiB.\n",
      "23/06/28 19:11:33 WARN TaskSetManager: Stage 12467 contains a task of very large size (2846 KiB). The maximum recommended task size is 1000 KiB.\n",
      "23/06/28 19:11:39 WARN TaskSetManager: Stage 12468 contains a task of very large size (2855 KiB). The maximum recommended task size is 1000 KiB.\n",
      "23/06/28 19:11:39 WARN TaskSetManager: Stage 12470 contains a task of very large size (2855 KiB). The maximum recommended task size is 1000 KiB.\n",
      "23/06/28 19:11:40 WARN TaskSetManager: Stage 12471 contains a task of very large size (2846 KiB). The maximum recommended task size is 1000 KiB.\n"
     ]
    }
   ],
   "source": [
    "# Assuming `df` is your PySpark DataFrame\n",
    "kmeans_rows = kmeans_predictions.head(n=kmeans_predictions.count())\n",
    "gmm_rows = gmm_predictions.head(n=kmeans_predictions.count())\n",
    "bisecting_rows = bisecting_kmeans_predictions.head(n=kmeans_predictions.count())\n",
    "\n",
    "# Print the head rows\n",
    "dic = {'Plant': [], 'KMeans': [], 'GMM': [],'BisectingKMeans': []}\n",
    "for row1, row2, row3 in zip(kmeans_rows, gmm_rows, bisecting_rows):\n",
    "    dic['Plant']          .append(row1.plant)\n",
    "    dic['KMeans']         .append(row1.prediction)\n",
    "    dic['GMM']            .append(row2.prediction)\n",
    "    dic['BisectingKMeans'].append(row3.prediction)"
   ]
  },
  {
   "cell_type": "code",
   "execution_count": 94,
   "metadata": {
    "pycharm": {
     "name": "#%%\n"
    }
   },
   "outputs": [
    {
     "data": {
      "text/html": [
       "<div>\n",
       "<style scoped>\n",
       "    .dataframe tbody tr th:only-of-type {\n",
       "        vertical-align: middle;\n",
       "    }\n",
       "\n",
       "    .dataframe tbody tr th {\n",
       "        vertical-align: top;\n",
       "    }\n",
       "\n",
       "    .dataframe thead th {\n",
       "        text-align: right;\n",
       "    }\n",
       "</style>\n",
       "<table border=\"1\" class=\"dataframe\">\n",
       "  <thead>\n",
       "    <tr style=\"text-align: right;\">\n",
       "      <th></th>\n",
       "      <th>Plant</th>\n",
       "      <th>KMeans</th>\n",
       "      <th>GMM</th>\n",
       "      <th>BisectingKMeans</th>\n",
       "    </tr>\n",
       "  </thead>\n",
       "  <tbody>\n",
       "    <tr>\n",
       "      <th>0</th>\n",
       "      <td>abelia</td>\n",
       "      <td>0</td>\n",
       "      <td>1</td>\n",
       "      <td>0</td>\n",
       "    </tr>\n",
       "    <tr>\n",
       "      <th>1</th>\n",
       "      <td>abelia x grandiflora</td>\n",
       "      <td>0</td>\n",
       "      <td>1</td>\n",
       "      <td>0</td>\n",
       "    </tr>\n",
       "    <tr>\n",
       "      <th>2</th>\n",
       "      <td>abelmoschus</td>\n",
       "      <td>0</td>\n",
       "      <td>0</td>\n",
       "      <td>0</td>\n",
       "    </tr>\n",
       "    <tr>\n",
       "      <th>3</th>\n",
       "      <td>abelmoschus esculentus</td>\n",
       "      <td>0</td>\n",
       "      <td>0</td>\n",
       "      <td>0</td>\n",
       "    </tr>\n",
       "    <tr>\n",
       "      <th>4</th>\n",
       "      <td>abelmoschus moschatus</td>\n",
       "      <td>0</td>\n",
       "      <td>1</td>\n",
       "      <td>0</td>\n",
       "    </tr>\n",
       "  </tbody>\n",
       "</table>\n",
       "</div>"
      ],
      "text/plain": [
       "                    Plant  KMeans  GMM  BisectingKMeans\n",
       "0                  abelia       0    1                0\n",
       "1    abelia x grandiflora       0    1                0\n",
       "2             abelmoschus       0    0                0\n",
       "3  abelmoschus esculentus       0    0                0\n",
       "4   abelmoschus moschatus       0    1                0"
      ]
     },
     "execution_count": 94,
     "metadata": {},
     "output_type": "execute_result"
    }
   ],
   "source": [
    "df_predictions = pd.DataFrame(dic)\n",
    "df_predictions.head()"
   ]
  },
  {
   "cell_type": "code",
   "execution_count": 99,
   "metadata": {
    "pycharm": {
     "name": "#%%\n"
    }
   },
   "outputs": [
    {
     "name": "stdout",
     "output_type": "stream",
     "text": [
      "11\n",
      "28227\n",
      "28238\n"
     ]
    }
   ],
   "source": [
    "print(sum(df_predictions.KMeans != df_predictions.BisectingKMeans))\n",
    "print(sum(df_predictions.KMeans != df_predictions.GMM))\n",
    "print(sum(df_predictions.GMM != df_predictions.BisectingKMeans))"
   ]
  }
 ],
 "metadata": {
  "kernelspec": {
   "display_name": "Python 3 (ipykernel)",
   "language": "python",
   "name": "python3"
  },
  "language_info": {
   "codemirror_mode": {
    "name": "ipython",
    "version": 3
   },
   "file_extension": ".py",
   "mimetype": "text/x-python",
   "name": "python",
   "nbconvert_exporter": "python",
   "pygments_lexer": "ipython3",
   "version": "3.9.2"
  }
 },
 "nbformat": 4,
 "nbformat_minor": 4
}